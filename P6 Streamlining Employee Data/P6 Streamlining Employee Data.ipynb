{
 "cells": [
  {
   "cell_type": "markdown",
   "metadata": {},
   "source": [
    "## 1. Loading data from CSV and Excel files\n",
    "<p>You just got hired as the first and only data practitioner at a small business experiencing exponential growth. The company needs more structured processes, guidelines, and standards. Your first mission is to structure the human resources data. The data is currently scattered across teams and files and comes in various formats: Excel files, CSVs, JSON files, SQL databases…</p>\n",
    "<p>The Head of People Operations wants to have a general view gathering all available information about a specific employee. Your job is to gather it all in a file that will serve as the reference moving forward. You will merge all of this data in a pandas DataFrame before exporting to CSV.</p>\n",
    "<p>Data management at your company is not the best, but you need to start somewhere. You decide to tackle the most straightforward tasks first, and to begin by loading the company office addresses. They are currently saved into a CSV file, <code>office_addresses.csv</code>, which the Office Manager sent over to you. Additionally, an HR manager you remember interviewing with gave you access to the Excel file, <code>employee_information.xlsx</code>, where the employee addresses are saved. You need to load these datasets in two separate DataFrames.</p>\n",
    "\n",
    "- `df_office_addresses` holds the office addresses.\n",
    "- `df_empoyee_addresses` holds the employee addresses.\n",
    "- `df_emergency_contacts` holds the emergency contact information.\n",
    "- `df_employee_roles` holds more information about employee's roles and education.\n"
   ]
  },
  {
   "cell_type": "code",
   "execution_count": 22,
   "metadata": {
    "dc": {
     "key": "4"
    },
    "tags": [
     "sample_code"
    ]
   },
   "outputs": [
    {
     "name": "stdout",
     "output_type": "stream",
     "text": [
      "D:\\datacamp\\Project\\P7 Streamlining Employee Data\n",
      "D:\\datacamp\\Project\\P7 Streamlining Employee Data\\datasets\\office_addresses.csv\n"
     ]
    },
    {
     "data": {
      "text/html": [
       "<div>\n",
       "<style scoped>\n",
       "    .dataframe tbody tr th:only-of-type {\n",
       "        vertical-align: middle;\n",
       "    }\n",
       "\n",
       "    .dataframe tbody tr th {\n",
       "        vertical-align: top;\n",
       "    }\n",
       "\n",
       "    .dataframe thead th {\n",
       "        text-align: right;\n",
       "    }\n",
       "</style>\n",
       "<table border=\"1\" class=\"dataframe\">\n",
       "  <thead>\n",
       "    <tr style=\"text-align: right;\">\n",
       "      <th></th>\n",
       "      <th>office</th>\n",
       "      <th>office_country</th>\n",
       "      <th>office_city</th>\n",
       "      <th>office_street</th>\n",
       "      <th>office_street_number</th>\n",
       "    </tr>\n",
       "  </thead>\n",
       "  <tbody>\n",
       "    <tr>\n",
       "      <th>0</th>\n",
       "      <td>Leuven Office</td>\n",
       "      <td>BE</td>\n",
       "      <td>Leuven</td>\n",
       "      <td>Martelarenlaan</td>\n",
       "      <td>38</td>\n",
       "    </tr>\n",
       "  </tbody>\n",
       "</table>\n",
       "</div>"
      ],
      "text/plain": [
       "          office office_country office_city   office_street  \\\n",
       "0  Leuven Office             BE      Leuven  Martelarenlaan   \n",
       "\n",
       "   office_street_number  \n",
       "0                    38  "
      ]
     },
     "execution_count": 22,
     "metadata": {},
     "output_type": "execute_result"
    }
   ],
   "source": [
    "# Import the library you need\n",
    "import pandas as pd\n",
    "import os\n",
    "\n",
    "current_dir = os.getcwd()\n",
    "print(current_dir)\n",
    "\n",
    "my_file = os.path.join(current_dir, 'datasets', 'office_addresses.csv')\n",
    "print(my_file)\n",
    "                       \n",
    "with open(my_file) as file:\n",
    "    # Load office_addresses.csv\n",
    "    df_office_addresses = pd.read_csv(file)\n",
    "    \n",
    "# Take a look at the first rows of the DataFrames\n",
    "df_office_addresses.head(1)"
   ]
  },
  {
   "cell_type": "code",
   "execution_count": 38,
   "metadata": {
    "dc": {
     "key": "4"
    },
    "tags": [
     "sample_code"
    ]
   },
   "outputs": [
    {
     "name": "stdout",
     "output_type": "stream",
     "text": [
      "D:\\datacamp\\Project\\P7 Streamlining Employee Data\\datasets\\employee_information.xlsx\n"
     ]
    },
    {
     "data": {
      "text/html": [
       "<div>\n",
       "<style scoped>\n",
       "    .dataframe tbody tr th:only-of-type {\n",
       "        vertical-align: middle;\n",
       "    }\n",
       "\n",
       "    .dataframe tbody tr th {\n",
       "        vertical-align: top;\n",
       "    }\n",
       "\n",
       "    .dataframe thead th {\n",
       "        text-align: right;\n",
       "    }\n",
       "</style>\n",
       "<table border=\"1\" class=\"dataframe\">\n",
       "  <thead>\n",
       "    <tr style=\"text-align: right;\">\n",
       "      <th></th>\n",
       "      <th>Unnamed: 0</th>\n",
       "      <th>employee_id</th>\n",
       "      <th>employee_last_name</th>\n",
       "      <th>employee_first_name</th>\n",
       "      <th>employee_country</th>\n",
       "      <th>employee_city</th>\n",
       "      <th>employee_street</th>\n",
       "      <th>employee_street_number</th>\n",
       "    </tr>\n",
       "  </thead>\n",
       "  <tbody>\n",
       "    <tr>\n",
       "      <th>0</th>\n",
       "      <td>0</td>\n",
       "      <td>A2R5H9</td>\n",
       "      <td>Hunman</td>\n",
       "      <td>Jax</td>\n",
       "      <td>BE</td>\n",
       "      <td>Leuven</td>\n",
       "      <td>Grote Markt</td>\n",
       "      <td>9</td>\n",
       "    </tr>\n",
       "  </tbody>\n",
       "</table>\n",
       "</div>"
      ],
      "text/plain": [
       "   Unnamed: 0 employee_id employee_last_name employee_first_name  \\\n",
       "0           0      A2R5H9             Hunman                 Jax   \n",
       "\n",
       "  employee_country employee_city employee_street  employee_street_number  \n",
       "0               BE        Leuven     Grote Markt                       9  "
      ]
     },
     "execution_count": 38,
     "metadata": {},
     "output_type": "execute_result"
    }
   ],
   "source": [
    "file_path = os.path.join(current_dir, 'datasets', 'employee_information.xlsx')\n",
    "print(file_path)\n",
    "\n",
    "with open(file_path, mode = 'rb') as file: # https://stackoverflow.com/questions/48647122/pandas-read-excel-utf-8-codec-cant-decode-byte-0xa8-in-position-14-invalid\n",
    "    # Load employee_information.xlsx\n",
    "    df_employee_addresses = pd.read_excel(file)\n",
    "\n",
    "# Take a look at the first rows of the DataFrames\n",
    "df_employee_addresses.head(1)"
   ]
  },
  {
   "cell_type": "markdown",
   "metadata": {
    "dc": {
     "key": "12"
    },
    "deletable": false,
    "editable": false,
    "run_control": {
     "frozen": true
    },
    "tags": [
     "context"
    ]
   },
   "source": [
    "## 2. Loading employee data from Excel sheets\n",
    "<p>It turns out the <code>employee_information.xlsx</code> file also holds information about emergency contacts for each employee in a second sheet titled <code>emergency_contacts</code>. However, this sheet was edited at some point, and the header was removed! Looking at the data, you were able to figure out what the header should be, and you confirmed that they were appropriate with the HR manager: <code>employee_id</code>, <code>last_name</code>, <code>first_name</code>, <code>emergency_contact</code>, <code>emergency_contact_number</code>, <code>relationship</code>.</p>"
   ]
  },
  {
   "cell_type": "markdown",
   "metadata": {},
   "source": [
    "- pd.read_excel(file, sheet_name = 'name', header = None)"
   ]
  },
  {
   "cell_type": "code",
   "execution_count": 41,
   "metadata": {
    "dc": {
     "key": "12"
    },
    "tags": [
     "sample_code"
    ]
   },
   "outputs": [
    {
     "name": "stdout",
     "output_type": "stream",
     "text": [
      "D:\\datacamp\\Project\\P7 Streamlining Employee Data\\datasets\\employee_information.xlsx\n"
     ]
    },
    {
     "data": {
      "text/html": [
       "<div>\n",
       "<style scoped>\n",
       "    .dataframe tbody tr th:only-of-type {\n",
       "        vertical-align: middle;\n",
       "    }\n",
       "\n",
       "    .dataframe tbody tr th {\n",
       "        vertical-align: top;\n",
       "    }\n",
       "\n",
       "    .dataframe thead th {\n",
       "        text-align: right;\n",
       "    }\n",
       "</style>\n",
       "<table border=\"1\" class=\"dataframe\">\n",
       "  <thead>\n",
       "    <tr style=\"text-align: right;\">\n",
       "      <th></th>\n",
       "      <th>0</th>\n",
       "      <th>1</th>\n",
       "      <th>2</th>\n",
       "      <th>3</th>\n",
       "      <th>4</th>\n",
       "      <th>5</th>\n",
       "    </tr>\n",
       "  </thead>\n",
       "  <tbody>\n",
       "    <tr>\n",
       "      <th>0</th>\n",
       "      <td>A2R5H9</td>\n",
       "      <td>Hunman</td>\n",
       "      <td>Jax</td>\n",
       "      <td>Opie Hurst</td>\n",
       "      <td>-6064</td>\n",
       "      <td>Brother</td>\n",
       "    </tr>\n",
       "  </tbody>\n",
       "</table>\n",
       "</div>"
      ],
      "text/plain": [
       "        0       1    2           3     4        5\n",
       "0  A2R5H9  Hunman  Jax  Opie Hurst -6064  Brother"
      ]
     },
     "execution_count": 41,
     "metadata": {},
     "output_type": "execute_result"
    }
   ],
   "source": [
    "file_path = os.path.join(current_dir, 'datasets', 'employee_information.xlsx')\n",
    "print(file_path)\n",
    "\n",
    "with open(file_path, mode = 'rb') as file:\n",
    "    # Load data from the second sheet of employee_information.xlsx\n",
    "    df_emergency_contacts = pd.read_excel(file,\\\n",
    "                                      sheet_name = 'emergency_contacts', \n",
    "                                      header = None)\n",
    "# Take a look at the first rows of the DataFrames\n",
    "df_emergency_contacts.head(1)"
   ]
  },
  {
   "cell_type": "code",
   "execution_count": 42,
   "metadata": {
    "dc": {
     "key": "12"
    },
    "tags": [
     "sample_code"
    ]
   },
   "outputs": [
    {
     "data": {
      "text/html": [
       "<div>\n",
       "<style scoped>\n",
       "    .dataframe tbody tr th:only-of-type {\n",
       "        vertical-align: middle;\n",
       "    }\n",
       "\n",
       "    .dataframe tbody tr th {\n",
       "        vertical-align: top;\n",
       "    }\n",
       "\n",
       "    .dataframe thead th {\n",
       "        text-align: right;\n",
       "    }\n",
       "</style>\n",
       "<table border=\"1\" class=\"dataframe\">\n",
       "  <thead>\n",
       "    <tr style=\"text-align: right;\">\n",
       "      <th></th>\n",
       "      <th>employee_id</th>\n",
       "      <th>last_name</th>\n",
       "      <th>first_name</th>\n",
       "      <th>emergency_contact</th>\n",
       "      <th>emergency_contact_number</th>\n",
       "      <th>relationship</th>\n",
       "    </tr>\n",
       "  </thead>\n",
       "  <tbody>\n",
       "    <tr>\n",
       "      <th>0</th>\n",
       "      <td>A2R5H9</td>\n",
       "      <td>Hunman</td>\n",
       "      <td>Jax</td>\n",
       "      <td>Opie Hurst</td>\n",
       "      <td>-6064</td>\n",
       "      <td>Brother</td>\n",
       "    </tr>\n",
       "  </tbody>\n",
       "</table>\n",
       "</div>"
      ],
      "text/plain": [
       "  employee_id last_name first_name emergency_contact  \\\n",
       "0      A2R5H9    Hunman        Jax        Opie Hurst   \n",
       "\n",
       "   emergency_contact_number relationship  \n",
       "0                     -6064      Brother  "
      ]
     },
     "execution_count": 42,
     "metadata": {},
     "output_type": "execute_result"
    }
   ],
   "source": [
    "# Declare a list of new column names\n",
    "emergency_contacts_header = ['employee_id', 'last_name', 'first_name', 'emergency_contact', \\\n",
    "                             'emergency_contact_number', 'relationship']\n",
    "\n",
    "# Rename the columns\n",
    "df_emergency_contacts.columns = emergency_contacts_header\n",
    "\n",
    "df_emergency_contacts.head(1)"
   ]
  },
  {
   "cell_type": "markdown",
   "metadata": {
    "dc": {
     "key": "19"
    },
    "deletable": false,
    "editable": false,
    "run_control": {
     "frozen": true
    },
    "tags": [
     "context"
    ]
   },
   "source": [
    "## 3. Loading role data from JSON files\n",
    "<p>All right, you're making good progress! Now the next step is to gather information about employee roles, teams, and salaries. This information usually lives in a human resources management system, but the Head of People Operations exported the data for you into a JSON file titled <code>employee_roles.json</code>.</p>\n",
    "<p>Looking at the JSON file, you see entries are structured in a specific way. It is built as a Python dictionary: the keys are employee IDs, and each employee ID has a corresponding dictionary value holding role, salary, and team information. Here are the first few lines of the file:</p>\n",
    "<pre><code>{\"A2R5H9\":\n",
    "  {\n",
    "    \"title\": \"CEO\",\n",
    "    \"monthly_salary\": \"$4500\",\n",
    "    \"team\": \"Leadership\"\n",
    "  },\n",
    " ...\n",
    "}\n",
    "</code></pre>\n",
    "<p>Load the JSON file to a variable <code>df_employee_roles</code>, choosing the appropriate orientation.</p>"
   ]
  },
  {
   "cell_type": "markdown",
   "metadata": {},
   "source": [
    " - df = pd.read_json('file_name.json', orient = 'index')\n",
    " - reorder columns: df. reindex(new_column_names, axis = 1) 1:<->\n",
    " - sort(df.columns)"
   ]
  },
  {
   "cell_type": "code",
   "execution_count": 46,
   "metadata": {
    "dc": {
     "key": "19"
    },
    "tags": [
     "sample_code"
    ]
   },
   "outputs": [
    {
     "name": "stdout",
     "output_type": "stream",
     "text": [
      "D:\\datacamp\\Project\\P7 Streamlining Employee Data\\datasets\\employee_roles.json\n",
      "<class 'pandas.core.indexes.base.Index'>\n"
     ]
    },
    {
     "data": {
      "text/html": [
       "<div>\n",
       "<style scoped>\n",
       "    .dataframe tbody tr th:only-of-type {\n",
       "        vertical-align: middle;\n",
       "    }\n",
       "\n",
       "    .dataframe tbody tr th {\n",
       "        vertical-align: top;\n",
       "    }\n",
       "\n",
       "    .dataframe thead th {\n",
       "        text-align: right;\n",
       "    }\n",
       "</style>\n",
       "<table border=\"1\" class=\"dataframe\">\n",
       "  <thead>\n",
       "    <tr style=\"text-align: right;\">\n",
       "      <th></th>\n",
       "      <th>monthly_salary</th>\n",
       "      <th>team</th>\n",
       "      <th>title</th>\n",
       "    </tr>\n",
       "  </thead>\n",
       "  <tbody>\n",
       "    <tr>\n",
       "      <th>A2R5H9</th>\n",
       "      <td>$4500</td>\n",
       "      <td>Leadership</td>\n",
       "      <td>CEO</td>\n",
       "    </tr>\n",
       "    <tr>\n",
       "      <th>H8K0L6</th>\n",
       "      <td>$4500</td>\n",
       "      <td>Leadership</td>\n",
       "      <td>CFO</td>\n",
       "    </tr>\n",
       "    <tr>\n",
       "      <th>G4R7V0</th>\n",
       "      <td>$3000</td>\n",
       "      <td>Sales</td>\n",
       "      <td>Business Developer</td>\n",
       "    </tr>\n",
       "    <tr>\n",
       "      <th>M1Z7U9</th>\n",
       "      <td>$2000</td>\n",
       "      <td>People Operations</td>\n",
       "      <td>Office Manager</td>\n",
       "    </tr>\n",
       "  </tbody>\n",
       "</table>\n",
       "</div>"
      ],
      "text/plain": [
       "       monthly_salary               team               title\n",
       "A2R5H9          $4500         Leadership                 CEO\n",
       "H8K0L6          $4500         Leadership                 CFO\n",
       "G4R7V0          $3000              Sales  Business Developer\n",
       "M1Z7U9          $2000  People Operations      Office Manager"
      ]
     },
     "execution_count": 46,
     "metadata": {},
     "output_type": "execute_result"
    }
   ],
   "source": [
    "# Load employee_roles.json\n",
    "# df = pd.read_json(\"datasets/employee_roles.json\")\n",
    "# df.head()\n",
    "\n",
    "file_path = os.path.join(current_dir, 'datasets', 'employee_roles.json')\n",
    "print(file_path)\n",
    "\n",
    "with open(file_path, mode = 'rb') as file:\n",
    "    df_employee_roles = pd.read_json('datasets/employee_roles.json', orient = 'index')\n",
    "                                         \n",
    "df_employee_roles = df_employee_roles.reindex(sorted(df_employee_roles.columns), axis=1)\n",
    "print(type(df_employee_roles.columns))\n",
    "\n",
    "# Take a look at the first rows of the DataFrame\n",
    "df_employee_roles.head()"
   ]
  },
  {
   "cell_type": "markdown",
   "metadata": {
    "dc": {
     "key": "26"
    },
    "deletable": false,
    "editable": false,
    "run_control": {
     "frozen": true
    },
    "tags": [
     "context"
    ]
   },
   "source": [
    "## 4. Merging several DataFrames into one\n",
    "<p>You now have all the data required! All that's left is bringing it all in a unique DataFrame. This unique DataFrame will enable the Head of People Operations to access all employee data at once.</p>\n",
    "<p>In this step, you will merge all DataFrames. In the next step, you will remove duplicates and reorganize the columns - don't worry about this for now.</p>"
   ]
  },
  {
   "cell_type": "markdown",
   "metadata": {},
   "source": [
    "- df1.merge(df2, on = 'same col name', how = 'left', copy = False)\n",
    "- merge two different names: right_on = 'right column name'\n",
    "- merge with index column: right_index = True"
   ]
  },
  {
   "cell_type": "code",
   "execution_count": 47,
   "metadata": {
    "dc": {
     "key": "26"
    },
    "tags": [
     "sample_code"
    ]
   },
   "outputs": [
    {
     "name": "stdout",
     "output_type": "stream",
     "text": [
      "   Unnamed: 0 employee_id employee_last_name employee_first_name  \\\n",
      "0           0      A2R5H9             Hunman                 Jax   \n",
      "1           1      H8K0L6               Siff                Tara   \n",
      "\n",
      "  employee_country employee_city employee_street  employee_street_number  \\\n",
      "0               BE        Leuven     Grote Markt                       9   \n",
      "1               GB        London    Baker Street                     221   \n",
      "\n",
      "  last_name first_name  ... emergency_contact_number  relationship  \\\n",
      "0    Hunman        Jax  ...                    -6064       Brother   \n",
      "1      Siff       Tara  ...                    -5863        Sister   \n",
      "\n",
      "  monthly_salary        team title         office office_country office_city  \\\n",
      "0          $4500  Leadership   CEO  Leuven Office             BE      Leuven   \n",
      "1          $4500  Leadership   CFO  WeWork Office             GB      London   \n",
      "\n",
      "    office_street office_street_number  \n",
      "0  Martelarenlaan                 38.0  \n",
      "1      Old Street                207.0  \n",
      "\n",
      "[2 rows x 21 columns]\n",
      "Index(['Unnamed: 0', 'employee_id', 'employee_last_name',\n",
      "       'employee_first_name', 'employee_country', 'employee_city',\n",
      "       'employee_street', 'employee_street_number', 'last_name', 'first_name',\n",
      "       'emergency_contact', 'emergency_contact_number', 'relationship',\n",
      "       'monthly_salary', 'team', 'title', 'office', 'office_country',\n",
      "       'office_city', 'office_street', 'office_street_number'],\n",
      "      dtype='object')\n"
     ]
    }
   ],
   "source": [
    "# Merge df_employee_addresses with df_emergency_contacts\n",
    "df_employees = df_employee_addresses.merge(df_emergency_contacts, how=\"left\", on='employee_id', copy=False)\n",
    "\n",
    "# Merge df_employees with df_employee_roles\n",
    "df_employees = df_employees.merge(df_employee_roles, how=\"left\", left_on='employee_id', right_index=True, copy=False)\n",
    "\n",
    "# Merge df_employees with df_office_addresses\n",
    "df_employees = df_employees.merge(df_office_addresses, how=\"left\", left_on='employee_country', right_on='office_country', copy=False)\n",
    "\n",
    "# Take a look at the first rows of the DataFrame and its columns\n",
    "print(df_employees.head(2))\n",
    "print(df_employees.columns)"
   ]
  },
  {
   "cell_type": "markdown",
   "metadata": {
    "dc": {
     "key": "33"
    },
    "deletable": false,
    "editable": false,
    "run_control": {
     "frozen": true
    },
    "tags": [
     "context"
    ]
   },
   "source": [
    "## 5. Editing column names\n",
    "<p>Now that you merged all of your DataFrames into one let's make sure you have the information required by People Ops.</p>\n",
    "<p>Currently, your <code>df_employees</code> DataFrame has the following column titles:\n",
    "<code>employee_id</code>, <code>employee_last_name</code>, <code>employee_first_name</code>, <code>employee_country</code>, <code>employee_city</code>, <code>employee_street</code>, <code>employee_street_number</code>, <code>last_name</code>, <code>first_name</code>, <code>emergency_contact</code>, <code>emergency_contact_number</code>, <code>relationship</code>, <code>monthly_salary</code>, <code>team</code>, <code>title</code>,  <code>office</code>, <code>office_country</code>, <code>office_city</code>, <code>office_street</code>, <code>office_street_number</code>.</p>\n",
    "<p>The columns <code>employee_last_name</code> and <code>last_name</code> are duplicates. The columns <code>employee_first_name</code> and <code>first_name</code> are duplicates as well. On top of this, People Ops wants to rename some of the columns:</p>\n",
    "<ul>\n",
    "<li><code>employee_id</code> should be <code>id</code></li>\n",
    "<li><code>employee_country</code> should be <code>country</code></li>\n",
    "<li><code>employee_city</code> should be <code>city</code></li>\n",
    "<li><code>employee_street</code> should be <code>street</code></li>\n",
    "<li><code>employee_street_number</code> should be <code>street_number</code></li>\n",
    "<li><code>emergency_contact_number</code> should be <code>emergency_number</code></li>\n",
    "<li><code>relationship</code> should be <code>emergency_relationship</code></li>\n",
    "</ul>\n",
    "<p><strong>So your header should look like this in the end:</strong>\n",
    "<code>id</code>, <code>country</code>, <code>city</code>, <code>street</code>, <code>street_number</code>, <code>last_name</code>, <code>first_name</code>, <code>emergency_contact</code>, <code>emergency_number</code>, <code>emergency_relationship</code>, <code>monthly_salary</code>, <code>team</code>, <code>title</code>, <code>office</code>, <code>office_country</code>, <code>office_city</code>, <code>office_street</code>, <code>office_street_number</code>.</p>"
   ]
  },
  {
   "cell_type": "markdown",
   "metadata": {},
   "source": [
    "- drop column: df. drop(['col1', 'col2'], axis = 1) 1: column\n",
    "- dictionary for columns = new_column_names\n",
    "- df.rename(columns = new_column_names) "
   ]
  },
  {
   "cell_type": "code",
   "execution_count": 48,
   "metadata": {
    "dc": {
     "key": "33"
    },
    "tags": [
     "sample_code"
    ]
   },
   "outputs": [
    {
     "data": {
      "text/html": [
       "<div>\n",
       "<style scoped>\n",
       "    .dataframe tbody tr th:only-of-type {\n",
       "        vertical-align: middle;\n",
       "    }\n",
       "\n",
       "    .dataframe tbody tr th {\n",
       "        vertical-align: top;\n",
       "    }\n",
       "\n",
       "    .dataframe thead th {\n",
       "        text-align: right;\n",
       "    }\n",
       "</style>\n",
       "<table border=\"1\" class=\"dataframe\">\n",
       "  <thead>\n",
       "    <tr style=\"text-align: right;\">\n",
       "      <th></th>\n",
       "      <th>Unnamed: 0</th>\n",
       "      <th>id</th>\n",
       "      <th>country</th>\n",
       "      <th>city</th>\n",
       "      <th>street</th>\n",
       "      <th>street_number</th>\n",
       "      <th>last_name</th>\n",
       "      <th>first_name</th>\n",
       "      <th>emergency_contact</th>\n",
       "      <th>emergency_number</th>\n",
       "      <th>emergency_relationship</th>\n",
       "      <th>monthly_salary</th>\n",
       "      <th>team</th>\n",
       "      <th>title</th>\n",
       "      <th>office</th>\n",
       "      <th>office_country</th>\n",
       "      <th>office_city</th>\n",
       "      <th>office_street</th>\n",
       "      <th>office_street_number</th>\n",
       "    </tr>\n",
       "  </thead>\n",
       "  <tbody>\n",
       "    <tr>\n",
       "      <th>0</th>\n",
       "      <td>0</td>\n",
       "      <td>A2R5H9</td>\n",
       "      <td>BE</td>\n",
       "      <td>Leuven</td>\n",
       "      <td>Grote Markt</td>\n",
       "      <td>9</td>\n",
       "      <td>Hunman</td>\n",
       "      <td>Jax</td>\n",
       "      <td>Opie Hurst</td>\n",
       "      <td>-6064</td>\n",
       "      <td>Brother</td>\n",
       "      <td>$4500</td>\n",
       "      <td>Leadership</td>\n",
       "      <td>CEO</td>\n",
       "      <td>Leuven Office</td>\n",
       "      <td>BE</td>\n",
       "      <td>Leuven</td>\n",
       "      <td>Martelarenlaan</td>\n",
       "      <td>38.0</td>\n",
       "    </tr>\n",
       "    <tr>\n",
       "      <th>1</th>\n",
       "      <td>1</td>\n",
       "      <td>H8K0L6</td>\n",
       "      <td>GB</td>\n",
       "      <td>London</td>\n",
       "      <td>Baker Street</td>\n",
       "      <td>221</td>\n",
       "      <td>Siff</td>\n",
       "      <td>Tara</td>\n",
       "      <td>Wendy de Matteo</td>\n",
       "      <td>-5863</td>\n",
       "      <td>Sister</td>\n",
       "      <td>$4500</td>\n",
       "      <td>Leadership</td>\n",
       "      <td>CFO</td>\n",
       "      <td>WeWork Office</td>\n",
       "      <td>GB</td>\n",
       "      <td>London</td>\n",
       "      <td>Old Street</td>\n",
       "      <td>207.0</td>\n",
       "    </tr>\n",
       "  </tbody>\n",
       "</table>\n",
       "</div>"
      ],
      "text/plain": [
       "   Unnamed: 0      id country    city        street  street_number last_name  \\\n",
       "0           0  A2R5H9      BE  Leuven   Grote Markt              9    Hunman   \n",
       "1           1  H8K0L6      GB  London  Baker Street            221      Siff   \n",
       "\n",
       "  first_name emergency_contact  emergency_number emergency_relationship  \\\n",
       "0        Jax        Opie Hurst             -6064                Brother   \n",
       "1       Tara   Wendy de Matteo             -5863                 Sister   \n",
       "\n",
       "  monthly_salary        team title         office office_country office_city  \\\n",
       "0          $4500  Leadership   CEO  Leuven Office             BE      Leuven   \n",
       "1          $4500  Leadership   CFO  WeWork Office             GB      London   \n",
       "\n",
       "    office_street  office_street_number  \n",
       "0  Martelarenlaan                  38.0  \n",
       "1      Old Street                 207.0  "
      ]
     },
     "execution_count": 48,
     "metadata": {},
     "output_type": "execute_result"
    }
   ],
   "source": [
    "# Drop the columns\n",
    "df_employees_renamed = df_employees.drop(['employee_last_name','employee_first_name'], axis=1)\n",
    "\n",
    "# New columns names\n",
    "new_column_names = {\"employee_id\": \"id\",\n",
    "                    \"employee_country\": \"country\",\n",
    "                    \"employee_city\": \"city\",\n",
    "                    \"employee_street\": \"street\",\n",
    "                    \"employee_street_number\": \"street_number\",\n",
    "                    \"relationship\": \"emergency_relationship\",\n",
    "                    \"emergency_contact_number\": \"emergency_number\"}\n",
    "\n",
    "# Rename the columns\n",
    "df_employees_renamed = df_employees_renamed.rename(columns = new_column_names)\n",
    "\n",
    "# Take a look at the first rows of the DataFrame\n",
    "df_employees_renamed.head(2)"
   ]
  },
  {
   "cell_type": "markdown",
   "metadata": {
    "dc": {
     "key": "40"
    },
    "deletable": false,
    "editable": false,
    "run_control": {
     "frozen": true
    },
    "tags": [
     "context"
    ]
   },
   "source": [
    "## 6. Changing column order\n",
    "<p>Now that you have the appropriate column names, you can reorder the columns.</p>"
   ]
  },
  {
   "cell_type": "code",
   "execution_count": 49,
   "metadata": {
    "dc": {
     "key": "40"
    },
    "tags": [
     "sample_code"
    ]
   },
   "outputs": [
    {
     "data": {
      "text/html": [
       "<div>\n",
       "<style scoped>\n",
       "    .dataframe tbody tr th:only-of-type {\n",
       "        vertical-align: middle;\n",
       "    }\n",
       "\n",
       "    .dataframe tbody tr th {\n",
       "        vertical-align: top;\n",
       "    }\n",
       "\n",
       "    .dataframe thead th {\n",
       "        text-align: right;\n",
       "    }\n",
       "</style>\n",
       "<table border=\"1\" class=\"dataframe\">\n",
       "  <thead>\n",
       "    <tr style=\"text-align: right;\">\n",
       "      <th></th>\n",
       "      <th>id</th>\n",
       "      <th>last_name</th>\n",
       "      <th>first_name</th>\n",
       "      <th>title</th>\n",
       "      <th>team</th>\n",
       "      <th>monthly_salary</th>\n",
       "      <th>country</th>\n",
       "      <th>city</th>\n",
       "      <th>street</th>\n",
       "      <th>street_number</th>\n",
       "      <th>emergency_contact</th>\n",
       "      <th>emergency_number</th>\n",
       "      <th>emergency_relationship</th>\n",
       "      <th>office</th>\n",
       "      <th>office_country</th>\n",
       "      <th>office_city</th>\n",
       "      <th>office_street</th>\n",
       "      <th>office_street_number</th>\n",
       "    </tr>\n",
       "  </thead>\n",
       "  <tbody>\n",
       "    <tr>\n",
       "      <th>0</th>\n",
       "      <td>A2R5H9</td>\n",
       "      <td>Hunman</td>\n",
       "      <td>Jax</td>\n",
       "      <td>CEO</td>\n",
       "      <td>Leadership</td>\n",
       "      <td>$4500</td>\n",
       "      <td>BE</td>\n",
       "      <td>Leuven</td>\n",
       "      <td>Grote Markt</td>\n",
       "      <td>9</td>\n",
       "      <td>Opie Hurst</td>\n",
       "      <td>-6064</td>\n",
       "      <td>Brother</td>\n",
       "      <td>Leuven Office</td>\n",
       "      <td>BE</td>\n",
       "      <td>Leuven</td>\n",
       "      <td>Martelarenlaan</td>\n",
       "      <td>38.0</td>\n",
       "    </tr>\n",
       "    <tr>\n",
       "      <th>1</th>\n",
       "      <td>H8K0L6</td>\n",
       "      <td>Siff</td>\n",
       "      <td>Tara</td>\n",
       "      <td>CFO</td>\n",
       "      <td>Leadership</td>\n",
       "      <td>$4500</td>\n",
       "      <td>GB</td>\n",
       "      <td>London</td>\n",
       "      <td>Baker Street</td>\n",
       "      <td>221</td>\n",
       "      <td>Wendy de Matteo</td>\n",
       "      <td>-5863</td>\n",
       "      <td>Sister</td>\n",
       "      <td>WeWork Office</td>\n",
       "      <td>GB</td>\n",
       "      <td>London</td>\n",
       "      <td>Old Street</td>\n",
       "      <td>207.0</td>\n",
       "    </tr>\n",
       "    <tr>\n",
       "      <th>2</th>\n",
       "      <td>G4R7V0</td>\n",
       "      <td>Sagal</td>\n",
       "      <td>Gemma</td>\n",
       "      <td>Business Developer</td>\n",
       "      <td>Sales</td>\n",
       "      <td>$3000</td>\n",
       "      <td>US</td>\n",
       "      <td>New-York</td>\n",
       "      <td>Perry Street</td>\n",
       "      <td>66</td>\n",
       "      <td>John Newmark</td>\n",
       "      <td>-950</td>\n",
       "      <td>Husband</td>\n",
       "      <td>ESB Office</td>\n",
       "      <td>US</td>\n",
       "      <td>New York City</td>\n",
       "      <td>Fifth Avenue</td>\n",
       "      <td>350.0</td>\n",
       "    </tr>\n",
       "    <tr>\n",
       "      <th>3</th>\n",
       "      <td>M1Z7U9</td>\n",
       "      <td>Coates</td>\n",
       "      <td>Tig</td>\n",
       "      <td>Office Manager</td>\n",
       "      <td>People Operations</td>\n",
       "      <td>$2000</td>\n",
       "      <td>FR</td>\n",
       "      <td>Paris</td>\n",
       "      <td>Rue de l'Université</td>\n",
       "      <td>7</td>\n",
       "      <td>Venus Noone</td>\n",
       "      <td>-886</td>\n",
       "      <td>Wife</td>\n",
       "      <td>NaN</td>\n",
       "      <td>NaN</td>\n",
       "      <td>NaN</td>\n",
       "      <td>NaN</td>\n",
       "      <td>NaN</td>\n",
       "    </tr>\n",
       "  </tbody>\n",
       "</table>\n",
       "</div>"
      ],
      "text/plain": [
       "       id last_name first_name               title               team  \\\n",
       "0  A2R5H9    Hunman        Jax                 CEO         Leadership   \n",
       "1  H8K0L6      Siff       Tara                 CFO         Leadership   \n",
       "2  G4R7V0     Sagal      Gemma  Business Developer              Sales   \n",
       "3  M1Z7U9    Coates        Tig      Office Manager  People Operations   \n",
       "\n",
       "  monthly_salary country      city               street  street_number  \\\n",
       "0          $4500      BE    Leuven          Grote Markt              9   \n",
       "1          $4500      GB    London         Baker Street            221   \n",
       "2          $3000      US  New-York         Perry Street             66   \n",
       "3          $2000      FR     Paris  Rue de l'Université              7   \n",
       "\n",
       "  emergency_contact  emergency_number emergency_relationship         office  \\\n",
       "0        Opie Hurst             -6064                Brother  Leuven Office   \n",
       "1   Wendy de Matteo             -5863                 Sister  WeWork Office   \n",
       "2      John Newmark              -950                Husband     ESB Office   \n",
       "3       Venus Noone              -886                   Wife            NaN   \n",
       "\n",
       "  office_country    office_city   office_street  office_street_number  \n",
       "0             BE         Leuven  Martelarenlaan                  38.0  \n",
       "1             GB         London      Old Street                 207.0  \n",
       "2             US  New York City    Fifth Avenue                 350.0  \n",
       "3            NaN            NaN             NaN                   NaN  "
      ]
     },
     "execution_count": 49,
     "metadata": {},
     "output_type": "execute_result"
    }
   ],
   "source": [
    "# Declare a list for the new column's order and reorder columns\n",
    "new_column_order = [\"id\", \"last_name\", \"first_name\", \"title\", \"team\", \"monthly_salary\", \n",
    "                    \"country\", \"city\", \"street\", \"street_number\",\n",
    "                    \"emergency_contact\", \"emergency_number\", \"emergency_relationship\",\n",
    "                    \"office\", \"office_country\", \"office_city\", \"office_street\", \"office_street_number\"]\n",
    "\n",
    "# Reorder the columns\n",
    "df_employees_ordered = df_employees_renamed.reindex(new_column_order, axis=1)\n",
    "\n",
    "# Take a look at the result\n",
    "df_employees_ordered.head()\n",
    "# print(df_employees_ordered.dtypes)"
   ]
  },
  {
   "cell_type": "markdown",
   "metadata": {
    "dc": {
     "key": "47"
    },
    "deletable": false,
    "editable": false,
    "run_control": {
     "frozen": true
    },
    "tags": [
     "context"
    ]
   },
   "source": [
    "## 7. The last minute request\n",
    "<p>Last touches! You were ready to let People Ops know that the DataFrame was ready, but the department head just went over to your desk after lunch, asking about some last-minute requirements.</p>\n",
    "<p>Let's polish the DataFrame before exporting the data, sending it over to People Ops, and deploying the pipeline:</p>\n",
    "<ul>\n",
    "<li>All street numbers should be integers</li>\n",
    "<li>The index should be the actual employee ID rather than the row number</li>\n",
    "<li>If the value for office is <code>NaN</code> then the employee is remote: add a column named \"status\", right after <code>monthly_salary</code> indicating whether the employee is \"On-site\" or \"Remote.\"</li>\n",
    "</ul>"
   ]
  },
  {
   "cell_type": "markdown",
   "metadata": {},
   "source": [
    "- df.set_index('col')\n",
    "- df['col'].astype('int')\n",
    "- for idx, row in df.iterrows(): => get row_index, and row value under each column names\n",
    "- insert a column at specific position: df.insert(loc = 'col_position, column = 'col_name', value = data)"
   ]
  },
  {
   "cell_type": "code",
   "execution_count": 51,
   "metadata": {
    "dc": {
     "key": "47"
    },
    "tags": [
     "sample_code"
    ]
   },
   "outputs": [
    {
     "name": "stdout",
     "output_type": "stream",
     "text": [
      "(4, 17)\n",
      "['On-site', 'On-site', 'On-site', 'Remote']\n"
     ]
    },
    {
     "data": {
      "text/html": [
       "<div>\n",
       "<style scoped>\n",
       "    .dataframe tbody tr th:only-of-type {\n",
       "        vertical-align: middle;\n",
       "    }\n",
       "\n",
       "    .dataframe tbody tr th {\n",
       "        vertical-align: top;\n",
       "    }\n",
       "\n",
       "    .dataframe thead th {\n",
       "        text-align: right;\n",
       "    }\n",
       "</style>\n",
       "<table border=\"1\" class=\"dataframe\">\n",
       "  <thead>\n",
       "    <tr style=\"text-align: right;\">\n",
       "      <th></th>\n",
       "      <th>last_name</th>\n",
       "      <th>first_name</th>\n",
       "      <th>title</th>\n",
       "      <th>team</th>\n",
       "      <th>monthly_salary</th>\n",
       "      <th>status</th>\n",
       "      <th>country</th>\n",
       "      <th>city</th>\n",
       "      <th>street</th>\n",
       "      <th>street_number</th>\n",
       "      <th>emergency_contact</th>\n",
       "      <th>emergency_number</th>\n",
       "      <th>emergency_relationship</th>\n",
       "      <th>office</th>\n",
       "      <th>office_country</th>\n",
       "      <th>office_city</th>\n",
       "      <th>office_street</th>\n",
       "      <th>office_street_number</th>\n",
       "    </tr>\n",
       "    <tr>\n",
       "      <th>id</th>\n",
       "      <th></th>\n",
       "      <th></th>\n",
       "      <th></th>\n",
       "      <th></th>\n",
       "      <th></th>\n",
       "      <th></th>\n",
       "      <th></th>\n",
       "      <th></th>\n",
       "      <th></th>\n",
       "      <th></th>\n",
       "      <th></th>\n",
       "      <th></th>\n",
       "      <th></th>\n",
       "      <th></th>\n",
       "      <th></th>\n",
       "      <th></th>\n",
       "      <th></th>\n",
       "      <th></th>\n",
       "    </tr>\n",
       "  </thead>\n",
       "  <tbody>\n",
       "    <tr>\n",
       "      <th>A2R5H9</th>\n",
       "      <td>Hunman</td>\n",
       "      <td>Jax</td>\n",
       "      <td>CEO</td>\n",
       "      <td>Leadership</td>\n",
       "      <td>$4500</td>\n",
       "      <td>On-site</td>\n",
       "      <td>BE</td>\n",
       "      <td>Leuven</td>\n",
       "      <td>Grote Markt</td>\n",
       "      <td>9</td>\n",
       "      <td>Opie Hurst</td>\n",
       "      <td>-6064</td>\n",
       "      <td>Brother</td>\n",
       "      <td>Leuven Office</td>\n",
       "      <td>BE</td>\n",
       "      <td>Leuven</td>\n",
       "      <td>Martelarenlaan</td>\n",
       "      <td>38.0</td>\n",
       "    </tr>\n",
       "    <tr>\n",
       "      <th>H8K0L6</th>\n",
       "      <td>Siff</td>\n",
       "      <td>Tara</td>\n",
       "      <td>CFO</td>\n",
       "      <td>Leadership</td>\n",
       "      <td>$4500</td>\n",
       "      <td>On-site</td>\n",
       "      <td>GB</td>\n",
       "      <td>London</td>\n",
       "      <td>Baker Street</td>\n",
       "      <td>221</td>\n",
       "      <td>Wendy de Matteo</td>\n",
       "      <td>-5863</td>\n",
       "      <td>Sister</td>\n",
       "      <td>WeWork Office</td>\n",
       "      <td>GB</td>\n",
       "      <td>London</td>\n",
       "      <td>Old Street</td>\n",
       "      <td>207.0</td>\n",
       "    </tr>\n",
       "    <tr>\n",
       "      <th>G4R7V0</th>\n",
       "      <td>Sagal</td>\n",
       "      <td>Gemma</td>\n",
       "      <td>Business Developer</td>\n",
       "      <td>Sales</td>\n",
       "      <td>$3000</td>\n",
       "      <td>On-site</td>\n",
       "      <td>US</td>\n",
       "      <td>New-York</td>\n",
       "      <td>Perry Street</td>\n",
       "      <td>66</td>\n",
       "      <td>John Newmark</td>\n",
       "      <td>-950</td>\n",
       "      <td>Husband</td>\n",
       "      <td>ESB Office</td>\n",
       "      <td>US</td>\n",
       "      <td>New York City</td>\n",
       "      <td>Fifth Avenue</td>\n",
       "      <td>350.0</td>\n",
       "    </tr>\n",
       "    <tr>\n",
       "      <th>M1Z7U9</th>\n",
       "      <td>Coates</td>\n",
       "      <td>Tig</td>\n",
       "      <td>Office Manager</td>\n",
       "      <td>People Operations</td>\n",
       "      <td>$2000</td>\n",
       "      <td>Remote</td>\n",
       "      <td>FR</td>\n",
       "      <td>Paris</td>\n",
       "      <td>Rue de l'Université</td>\n",
       "      <td>7</td>\n",
       "      <td>Venus Noone</td>\n",
       "      <td>-886</td>\n",
       "      <td>Wife</td>\n",
       "      <td>NaN</td>\n",
       "      <td>NaN</td>\n",
       "      <td>NaN</td>\n",
       "      <td>NaN</td>\n",
       "      <td>NaN</td>\n",
       "    </tr>\n",
       "  </tbody>\n",
       "</table>\n",
       "</div>"
      ],
      "text/plain": [
       "       last_name first_name               title               team  \\\n",
       "id                                                                   \n",
       "A2R5H9    Hunman        Jax                 CEO         Leadership   \n",
       "H8K0L6      Siff       Tara                 CFO         Leadership   \n",
       "G4R7V0     Sagal      Gemma  Business Developer              Sales   \n",
       "M1Z7U9    Coates        Tig      Office Manager  People Operations   \n",
       "\n",
       "       monthly_salary   status country      city               street  \\\n",
       "id                                                                      \n",
       "A2R5H9          $4500  On-site      BE    Leuven          Grote Markt   \n",
       "H8K0L6          $4500  On-site      GB    London         Baker Street   \n",
       "G4R7V0          $3000  On-site      US  New-York         Perry Street   \n",
       "M1Z7U9          $2000   Remote      FR     Paris  Rue de l'Université   \n",
       "\n",
       "        street_number emergency_contact  emergency_number  \\\n",
       "id                                                          \n",
       "A2R5H9              9        Opie Hurst             -6064   \n",
       "H8K0L6            221   Wendy de Matteo             -5863   \n",
       "G4R7V0             66      John Newmark              -950   \n",
       "M1Z7U9              7       Venus Noone              -886   \n",
       "\n",
       "       emergency_relationship         office office_country    office_city  \\\n",
       "id                                                                           \n",
       "A2R5H9                Brother  Leuven Office             BE         Leuven   \n",
       "H8K0L6                 Sister  WeWork Office             GB         London   \n",
       "G4R7V0                Husband     ESB Office             US  New York City   \n",
       "M1Z7U9                   Wife            NaN            NaN            NaN   \n",
       "\n",
       "         office_street  office_street_number  \n",
       "id                                            \n",
       "A2R5H9  Martelarenlaan                  38.0  \n",
       "H8K0L6      Old Street                 207.0  \n",
       "G4R7V0    Fifth Avenue                 350.0  \n",
       "M1Z7U9             NaN                   NaN  "
      ]
     },
     "execution_count": 51,
     "metadata": {},
     "output_type": "execute_result"
    }
   ],
   "source": [
    "# Reset the index and drop the column\n",
    "df_employees_final = df_employees_ordered.set_index('id')\n",
    "df_employees_final['street_number'] = df_employees_final['street_number'].astype('int')\n",
    "# df_employees_final = df_employees_final['office_street_number'].astype('int')\n",
    "print(df_employees_final.shape)\n",
    "      \n",
    "status_list = []\n",
    "\n",
    "# Loop through the row values and append to status_list accordingly\n",
    "for idx, row in df_employees_final.iterrows():\n",
    "    if pd.isnull(row['office']): \n",
    "        status_list.append('Remote')\n",
    "    else:\n",
    "        status_list.append('On-site')\n",
    "print(status_list)\n",
    "\n",
    "# Insert status_list as a new column\n",
    "df_employees_final.insert(loc=5, column = 'status',value = status_list)\n",
    "\n",
    "# Take a look at the first rows of the DataFrame\n",
    "df_employees_final.head()"
   ]
  },
  {
   "cell_type": "markdown",
   "metadata": {
    "dc": {
     "key": "54"
    },
    "deletable": false,
    "editable": false,
    "run_control": {
     "frozen": true
    },
    "tags": [
     "context"
    ]
   },
   "source": [
    "## 8. Saving your work\n",
    "<p>Good job! You now have everything People Ops requested. The different people responsible for these various files can currently keep working on these files if they want. As long as they save it in the <code>datasets</code> folder, People Ops will have to execute this unique script to obtain just one file from the ones scattered across different teams.</p>\n",
    "<p>You bumped into the Head of People Ops and shared a few caveats and areas of improvement. She booked a meeting with you so you can explain:</p>\n",
    "<ul>\n",
    "<li>How the current structure isn't robust to role changes: what if an existing employee takes on a new role?</li>\n",
    "<li>How the current structure doesn't fit best practices in terms of database schema:<ul>\n",
    "<li>having data all over the place like it's the case right now is a no-go</li>\n",
    "<li>but gathering everything in a single table is inefficient: you have to query all information even if all you want is a phone number</li>\n",
    "<li>there should be a single SQL database for employee data, with several tables that can be joined</li>\n",
    "<li>views can be built on top of the database to simplify non-data practitioners access.</li></ul></li>\n",
    "</ul>\n",
    "<p>In any case, you still need to show up with what was requested - so let's export your DataFrame to a CSV file.</p>"
   ]
  },
  {
   "cell_type": "code",
   "execution_count": 53,
   "metadata": {
    "dc": {
     "key": "54"
    },
    "tags": [
     "sample_code"
    ]
   },
   "outputs": [
    {
     "name": "stdout",
     "output_type": "stream",
     "text": [
      "D:\\datacamp\\Project\\P7 Streamlining Employee Data\\employee_data.csv\n"
     ]
    }
   ],
   "source": [
    "# Write to CSV to root folder directory\n",
    "file_path = os.path.join(current_dir, 'employee_data.csv')\n",
    "print(file_path)\n",
    "\n",
    "df_employees_final.to_csv(file_path)"
   ]
  },
  {
   "cell_type": "markdown",
   "metadata": {
    "dc": {
     "key": "4"
    },
    "deletable": false,
    "editable": false,
    "run_control": {
     "frozen": true
    },
    "tags": [
     "context"
    ]
   },
   "source": [
    "## 1. Loading data from CSV and Excel files\n",
    "<p>You just got hired as the first and only data practitioner at a small business experiencing exponential growth. The company needs more structured processes, guidelines, and standards. Your first mission is to structure the human resources data. The data is currently scattered across teams and files and comes in various formats: Excel files, CSVs, JSON files, SQL databases…</p>\n",
    "<p>The Head of People Operations wants to have a general view gathering all available information about a specific employee. Your job is to gather it all in a file that will serve as the reference moving forward. You will merge all of this data in a pandas DataFrame before exporting to CSV.</p>\n",
    "<p>Data management at your company is not the best, but you need to start somewhere. You decide to tackle the most straightforward tasks first, and to begin by loading the company office addresses. They are currently saved into a CSV file, <code>office_addresses.csv</code>, which the Office Manager sent over to you. Additionally, an HR manager you remember interviewing with gave you access to the Excel file, <code>employee_information.xlsx</code>, where the employee addresses are saved. You need to load these datasets in two separate DataFrames.</p>"
   ]
  }
 ],
 "metadata": {
  "kernelspec": {
   "display_name": "Python 3",
   "language": "python",
   "name": "python3"
  },
  "language_info": {
   "codemirror_mode": {
    "name": "ipython",
    "version": 3
   },
   "file_extension": ".py",
   "mimetype": "text/x-python",
   "name": "python",
   "nbconvert_exporter": "python",
   "pygments_lexer": "ipython3",
   "version": "3.8.3"
  }
 },
 "nbformat": 4,
 "nbformat_minor": 2
}
