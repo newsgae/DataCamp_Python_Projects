{
 "cells": [
  {
   "cell_type": "markdown",
   "metadata": {},
   "source": [
    "## Loading the data\n",
    "1560 rows, 25 columns, 1131 non-null entries in Job_Title_Description."
   ]
  },
  {
   "cell_type": "code",
   "execution_count": 1,
   "metadata": {},
   "outputs": [],
   "source": [
    "import pandas as pd\n",
    "import os"
   ]
  },
  {
   "cell_type": "code",
   "execution_count": 2,
   "metadata": {},
   "outputs": [
    {
     "name": "stdout",
     "output_type": "stream",
     "text": [
      "C:\\Users\\X\\Downloads\\Refactored_Py_DS_ML_Bootcamp-master\\27. School Budget Case Study ML\n",
      "C:\\Users\\X\\Downloads\\Refactored_Py_DS_ML_Bootcamp-master\\27. School Budget Case Study ML\\datasets\\TrainingData.csv\n"
     ]
    }
   ],
   "source": [
    "current_dir = os.getcwd()\n",
    "print(current_dir)\n",
    "\n",
    "my_file = os.path.join(current_dir, 'datasets', 'TrainingData.csv')\n",
    "print(my_file)"
   ]
  },
  {
   "cell_type": "code",
   "execution_count": 19,
   "metadata": {},
   "outputs": [
    {
     "name": "stdout",
     "output_type": "stream",
     "text": [
      "<class 'pandas.core.frame.DataFrame'>\n",
      "Int64Index: 1560 entries, 134338 to 182510\n",
      "Data columns (total 25 columns):\n",
      " #   Column                  Non-Null Count  Dtype  \n",
      "---  ------                  --------------  -----  \n",
      " 0   Function                1560 non-null   object \n",
      " 1   Use                     1560 non-null   object \n",
      " 2   Sharing                 1560 non-null   object \n",
      " 3   Reporting               1560 non-null   object \n",
      " 4   Student_Type            1560 non-null   object \n",
      " 5   Position_Type           1560 non-null   object \n",
      " 6   Object_Type             1560 non-null   object \n",
      " 7   Pre_K                   1560 non-null   object \n",
      " 8   Operating_Status        1560 non-null   object \n",
      " 9   Object_Description      1465 non-null   object \n",
      " 10  Text_2                  382 non-null    object \n",
      " 11  SubFund_Description     1192 non-null   object \n",
      " 12  Job_Title_Description   1149 non-null   object \n",
      " 13  Text_3                  405 non-null    object \n",
      " 14  Text_4                  221 non-null    object \n",
      " 15  Sub_Object_Description  345 non-null    object \n",
      " 16  Location_Description    635 non-null    object \n",
      " 17  FTE                     515 non-null    float64\n",
      " 18  Function_Description    1315 non-null   object \n",
      " 19  Facility_or_Department  206 non-null    object \n",
      " 20  Position_Extra          1035 non-null   object \n",
      " 21  Total                   1555 non-null   float64\n",
      " 22  Program_Description     1185 non-null   object \n",
      " 23  Fund_Description        793 non-null    object \n",
      " 24  Text_1                  1130 non-null   object \n",
      "dtypes: float64(2), object(23)\n",
      "memory usage: 316.9+ KB\n"
     ]
    }
   ],
   "source": [
    "df = pd.read_csv(my_file, index_col=0, nrows=1560)\n",
    "df.info()"
   ]
  },
  {
   "cell_type": "markdown",
   "metadata": {},
   "source": [
    "##  Summarizing the data"
   ]
  },
  {
   "cell_type": "code",
   "execution_count": 15,
   "metadata": {},
   "outputs": [
    {
     "name": "stdout",
     "output_type": "stream",
     "text": [
      "              FTE         Total\n",
      "count  515.000000  1.555000e+03\n",
      "mean     0.419423  2.648311e+04\n",
      "std      0.447816  6.726826e+05\n",
      "min      0.000000 -1.418000e+06\n",
      "25%      0.002155  7.701000e+01\n",
      "50%      0.139031  4.698100e+02\n",
      "75%      1.000000  4.101285e+03\n",
      "max      1.021492  2.646500e+07\n"
     ]
    }
   ],
   "source": [
    "# Print the summary statistics\n",
    "print(df.describe())"
   ]
  },
  {
   "cell_type": "code",
   "execution_count": 16,
   "metadata": {},
   "outputs": [
    {
     "data": {
      "image/png": "[encoded data removed]",
      "text/plain": [
       "<Figure size 432x288 with 1 Axes>"
      ]
     },
     "metadata": {
      "needs_background": "light"
     },
     "output_type": "display_data"
    }
   ],
   "source": [
    "# Import matplotlib.pyplot as plt\n",
    "import matplotlib.pyplot as plt\n",
    "\n",
    "# Create the histogram\n",
    "plt.hist(df['FTE'].dropna())\n",
    "\n",
    "# Add title and labels\n",
    "plt.title('Distribution of %full-time \\n employee works')\n",
    "plt.xlabel('% of full-time')\n",
    "plt.ylabel('num employees')\n",
    "\n",
    "# Display the histogram\n",
    "plt.show()"
   ]
  },
  {
   "cell_type": "code",
   "execution_count": 17,
   "metadata": {},
   "outputs": [
    {
     "data": {
      "text/plain": [
       "object     23\n",
       "float64     2\n",
       "dtype: int64"
      ]
     },
     "execution_count": 17,
     "metadata": {},
     "output_type": "execute_result"
    }
   ],
   "source": [
    "# There are 23 object types.\n",
    "df.dtypes.value_counts()"
   ]
  },
  {
   "cell_type": "markdown",
   "metadata": {},
   "source": [
    "## Encode the labels as categorical variables"
   ]
  },
  {
   "cell_type": "code",
   "execution_count": 26,
   "metadata": {},
   "outputs": [
    {
     "name": "stdout",
     "output_type": "stream",
     "text": [
      "<class 'list'>\n",
      "Function            category\n",
      "Use                 category\n",
      "Sharing             category\n",
      "Reporting           category\n",
      "Student_Type        category\n",
      "Position_Type       category\n",
      "Object_Type         category\n",
      "Pre_K               category\n",
      "Operating_Status    category\n",
      "dtype: object\n"
     ]
    }
   ],
   "source": [
    "# create a list to save 9 columns of labels;\n",
    "LABELS = ['Function', 'Use', 'Sharing', 'Reporting', 'Student_Type', 'Position_Type', 'Object_Type', 'Pre_K', 'Operating_Status']\n",
    "print(type(LABELS))\n",
    "\n",
    "# Define the lambda function: categorize_label\n",
    "categorize_label = lambda x: x.astype('category')\n",
    "\n",
    "# Convert df[LABELS] to a categorical type along the row\n",
    "df[LABELS] = df[LABELS].apply(categorize_label, axis=0)\n",
    "\n",
    "# Print the converted dtypes\n",
    "print(df[LABELS].dtypes)"
   ]
  },
  {
   "cell_type": "markdown",
   "metadata": {},
   "source": [
    "## Counting unique labels\n",
    "counting and plotting the number of unique values for each category of label"
   ]
  },
  {
   "cell_type": "code",
   "execution_count": 28,
   "metadata": {},
   "outputs": [
    {
     "name": "stdout",
     "output_type": "stream",
     "text": [
      "Function        35\n",
      "Use              8\n",
      "Sharing          5\n",
      "Reporting        3\n",
      "Student_Type     9\n",
      "dtype: int64\n"
     ]
    },
    {
     "data": {
      "image/png": "[encoded data removed]",
      "text/plain": [
       "<Figure size 432x288 with 1 Axes>"
      ]
     },
     "metadata": {
      "needs_background": "light"
     },
     "output_type": "display_data"
    }
   ],
   "source": [
    "# Import matplotlib.pyplot\n",
    "import matplotlib.pyplot as plt\n",
    "\n",
    "# Calculate number of unique values for each label: num_unique_labels\n",
    "## pandas has pd.Series.nunique method for counting the number of unique values in a Series\n",
    "num_unique_labels = df[LABELS].apply(pd.Series.nunique)\n",
    "print(num_unique_labels.head())\n",
    "\n",
    "# Plot number of unique values for each label\n",
    "num_unique_labels.plot(kind='bar')\n",
    "\n",
    "# Label the axes\n",
    "plt.xlabel('Labels')\n",
    "plt.ylabel('Number of unique values')\n",
    "\n",
    "# Display the plot\n",
    "plt.show()"
   ]
  },
  {
   "cell_type": "markdown",
   "metadata": {},
   "source": [
    "## Computing log loss with NumPy\n",
    "log loss provides a steep penalty for predictions that are both wrong and confident, i.e., a high probability is assigned to the incorrect class. log loss metric handles the trade-off between accuracy and confidence"
   ]
  },
  {
   "cell_type": "code",
   "execution_count": 30,
   "metadata": {},
   "outputs": [],
   "source": [
    "import numpy as np\n",
    "\n",
    "def compute_log_loss(predicted, actual, eps=1e-14):\n",
    "    \"\"\" \n",
    "        Computes the logarithmic loss between predicted and actual when these are 1D arrays.\n",
    "        \n",
    "    : param predicted: The predicted probabilities as floats between 0-1\n",
    "    : param actual: The actual binary labels. Either 0 or 1.\n",
    "    : param eps (optional) : log(0) is inf, so we need to offset our\n",
    "    \n",
    "    predicted values slightly by eps from 0 or 1.\n",
    "\"\"\"\n",
    "    predicted = np.clip(predicted, eps, 1 - eps)\n",
    "    loss = -1 * np.mean(\n",
    "                        actual * np.log(predicted) + (1-actual) * np.log(1-predicted)\n",
    "                        )\n",
    "    return loss"
   ]
  },
  {
   "cell_type": "code",
   "execution_count": 36,
   "metadata": {},
   "outputs": [],
   "source": [
    "actual_labels_list = [1, 1, 1, 1, 1, 0, 0, 0, 0, 0,]\n",
    "correct_confident_list = [0.95, 0.95, 0.95, 0.95, 0.95, 0.05, 0.05, 0.05, 0.05, 0.05]\n",
    "correct_not_confident_list = [0.65, 0.65, 0.65, 0.65, 0.65, 0.35, 0.35, 0.35, 0.35, 0.35]\n",
    "wrong_confident_list = [0.05, 0.05, 0.05, 0.05, 0.05, 0.95, 0.95, 0.95, 0.95, 0.95]\n",
    "wrong_not_confident_list =  [0.35, 0.35, 0.35, 0.35, 0.35, 0.65, 0.65, 0.65, 0.65, 0.65]\n",
    "\n",
    "actual_labels = np.array(actual_labels_list)\n",
    "correct_confident = np.array(correct_confident_list)\n",
    "correct_not_confident = np.array(correct_not_confident_list)\n",
    "wrong_confident = np.array(wrong_confident_list)\n",
    "wrong_not_confident = np.array(wrong_not_confident_list)"
   ]
  },
  {
   "cell_type": "markdown",
   "metadata": {},
   "source": [
    "Log loss penalizes highly confident wrong answers much more than any other type. "
   ]
  },
  {
   "cell_type": "code",
   "execution_count": 37,
   "metadata": {},
   "outputs": [
    {
     "name": "stdout",
     "output_type": "stream",
     "text": [
      "Log loss, correct and confident: 0.05129329438755058\n",
      "Log loss, correct and not confident: 0.4307829160924542\n",
      "Log loss, wrong and not confident: 1.049822124498678\n",
      "Log loss, wrong and confident: 2.9957322735539904\n",
      "Log loss, actual labels: 9.99200722162646e-15\n"
     ]
    }
   ],
   "source": [
    "# Compute and print log loss for 1st case - correct_confident\n",
    "correct_confident_loss = compute_log_loss(correct_confident, actual_labels)\n",
    "print(\"Log loss, correct and confident: {}\".format(correct_confident_loss)) \n",
    "\n",
    "# Compute log loss for 2nd case - correct_not_confident\n",
    "correct_not_confident_loss = compute_log_loss(correct_not_confident, actual_labels)\n",
    "print(\"Log loss, correct and not confident: {}\".format(correct_not_confident_loss)) \n",
    "\n",
    "# Compute and print log loss for 3rd case - wrong_not_confident\n",
    "wrong_not_confident_loss = compute_log_loss(wrong_not_confident, actual_labels)\n",
    "print(\"Log loss, wrong and not confident: {}\".format(wrong_not_confident_loss)) \n",
    "\n",
    "# Compute and print log loss for 4th case -wrong_confident\n",
    "wrong_confident_loss = compute_log_loss(wrong_confident, actual_labels)\n",
    "print(\"Log loss, wrong and confident: {}\".format(wrong_confident_loss)) \n",
    "\n",
    "# Compute and print log loss for actual labels\n",
    "actual_labels_loss = compute_log_loss(actual_labels, actual_labels)\n",
    "print(\"Log loss, actual labels: {}\".format(actual_labels_loss)) "
   ]
  },
  {
   "cell_type": "markdown",
   "metadata": {},
   "source": [
    "### Setting up a train-test split in scikit-learn\n",
    "Creating a simple model first helps to give us a sense of how challenging a question actually is. "
   ]
  },
  {
   "cell_type": "markdown",
   "metadata": {},
   "source": [
    "https://github.com/drivendataorg/box-plots-sklearn/blob/master/src/data/multilabel.py"
   ]
  },
  {
   "cell_type": "code",
   "execution_count": 39,
   "metadata": {},
   "outputs": [],
   "source": [
    "from warnings import warn\n",
    "\n",
    "import numpy as np\n",
    "import pandas as pd\n",
    "\n",
    "def multilabel_sample(y, size=1000, min_count=5, seed=None):\n",
    "    \"\"\" Takes a matrix of binary labels `y` and returns\n",
    "        the indices for a sample of size `size` if\n",
    "        `size` > 1 or `size` * len(y) if size =< 1.\n",
    "\n",
    "        The sample is guaranteed to have > `min_count` of\n",
    "        each label.\n",
    "    \"\"\"\n",
    "    try:\n",
    "        if (np.unique(y).astype(int) != np.array([0, 1])).any():\n",
    "            raise ValueError()\n",
    "    except (TypeError, ValueError):\n",
    "        raise ValueError('multilabel_sample only works with binary indicator matrices')\n",
    "\n",
    "    if (y.sum(axis=0) < min_count).any():\n",
    "        raise ValueError('Some classes do not have enough examples. Change min_count if necessary.')\n",
    "\n",
    "    if size <= 1:\n",
    "        size = np.floor(y.shape[0] * size)\n",
    "\n",
    "    if y.shape[1] * min_count > size:\n",
    "        msg = \"Size less than number of columns * min_count, returning {} items instead of {}.\"\n",
    "        warn(msg.format(y.shape[1] * min_count, size))\n",
    "        size = y.shape[1] * min_count\n",
    "\n",
    "    rng = np.random.RandomState(seed if seed is not None else np.random.randint(1))\n",
    "\n",
    "    if isinstance(y, pd.DataFrame):\n",
    "        choices = y.index\n",
    "        y = y.values\n",
    "    else:\n",
    "        choices = np.arange(y.shape[0])\n",
    "\n",
    "    sample_idxs = np.array([], dtype=choices.dtype)\n",
    "\n",
    "    # first, guarantee > min_count of each label\n",
    "    for j in range(y.shape[1]):\n",
    "        label_choices = choices[y[:, j] == 1]\n",
    "        label_idxs_sampled = rng.choice(label_choices, size=min_count, replace=False)\n",
    "        sample_idxs = np.concatenate([label_idxs_sampled, sample_idxs])\n",
    "\n",
    "    sample_idxs = np.unique(sample_idxs)\n",
    "\n",
    "    # now that we have at least min_count of each, we can just random sample\n",
    "    sample_count = int(size - sample_idxs.shape[0])\n",
    "\n",
    "    # get sample_count indices from remaining choices\n",
    "    remaining_choices = np.setdiff1d(choices, sample_idxs)\n",
    "    remaining_sampled = rng.choice(remaining_choices,\n",
    "                                   size=sample_count,\n",
    "                                   replace=False)\n",
    "\n",
    "    return np.concatenate([sample_idxs, remaining_sampled])\n",
    "\n",
    "\n",
    "def multilabel_sample_dataframe(df, labels, size, min_count=5, seed=None):\n",
    "    \"\"\" Takes a dataframe `df` and returns a sample of size `size` where all\n",
    "        classes in the binary matrix `labels` are represented at\n",
    "        least `min_count` times.\n",
    "    \"\"\"\n",
    "    idxs = multilabel_sample(labels, size=size, min_count=min_count, seed=seed)\n",
    "    return df.loc[idxs]\n",
    "\n",
    "\n",
    "def multilabel_train_test_split(X, Y, size, min_count=5, seed=None):\n",
    "    \"\"\" Takes a features matrix `X` and a label matrix `Y` and\n",
    "        returns (X_train, X_test, Y_train, Y_test) where all\n",
    "        classes in Y are represented at least `min_count` times.\n",
    "    \"\"\"\n",
    "    \n",
    "    index = Y.index if isinstance(Y, pd.DataFrame) else np.arange(Y.shape[0])\n",
    "\n",
    "    test_set_idxs = multilabel_sample(Y, size=size, min_count=min_count, seed=seed)\n",
    "    train_set_idxs = np.setdiff1d(index, test_set_idxs)\n",
    "\n",
    "    test_set_mask = index.isin(test_set_idxs)\n",
    "    train_set_mask = ~test_set_mask\n",
    "\n",
    "    return (X[train_set_mask], X[test_set_mask], Y[train_set_mask], Y[test_set_mask])"
   ]
  },
  {
   "cell_type": "code",
   "execution_count": 50,
   "metadata": {},
   "outputs": [
    {
     "name": "stdout",
     "output_type": "stream",
     "text": [
      "           FTE     Total\n",
      "134338     1.0  50471.81\n",
      "206341 -1000.0   3477.86\n",
      "326408     1.0  62237.13\n",
      "X_train info:\n",
      "<class 'pandas.core.frame.DataFrame'>\n",
      "Int64Index: 1248 entries, 134338 to 182510\n",
      "Data columns (total 2 columns):\n",
      " #   Column  Non-Null Count  Dtype  \n",
      "---  ------  --------------  -----  \n",
      " 0   FTE     1248 non-null   float64\n",
      " 1   Total   1248 non-null   float64\n",
      "dtypes: float64(2)\n",
      "memory usage: 29.2 KB\n",
      "None\n",
      "\n",
      "X_test info:\n",
      "<class 'pandas.core.frame.DataFrame'>\n",
      "Int64Index: 312 entries, 229958 to 391230\n",
      "Data columns (total 2 columns):\n",
      " #   Column  Non-Null Count  Dtype  \n",
      "---  ------  --------------  -----  \n",
      " 0   FTE     312 non-null    float64\n",
      " 1   Total   312 non-null    float64\n",
      "dtypes: float64(2)\n",
      "memory usage: 7.3 KB\n",
      "None\n",
      "\n",
      "y_train info:\n",
      "<class 'pandas.core.frame.DataFrame'>\n",
      "Int64Index: 1248 entries, 134338 to 182510\n",
      "Data columns (total 100 columns):\n",
      " #   Column                                                    Non-Null Count  Dtype\n",
      "---  ------                                                    --------------  -----\n",
      " 0   Function_Aides Compensation                               1248 non-null   uint8\n",
      " 1   Function_Career & Academic Counseling                     1248 non-null   uint8\n",
      " 2   Function_Curriculum Development                           1248 non-null   uint8\n",
      " 3   Function_Data Processing & Information Services           1248 non-null   uint8\n",
      " 4   Function_Development & Fundraising                        1248 non-null   uint8\n",
      " 5   Function_Enrichment                                       1248 non-null   uint8\n",
      " 6   Function_Extended Time & Tutoring                         1248 non-null   uint8\n",
      " 7   Function_Facilities & Maintenance                         1248 non-null   uint8\n",
      " 8   Function_Finance, Budget, Purchasing & Distribution       1248 non-null   uint8\n",
      " 9   Function_Food Services                                    1248 non-null   uint8\n",
      " 10  Function_Governance                                       1248 non-null   uint8\n",
      " 11  Function_Human Resources                                  1248 non-null   uint8\n",
      " 12  Function_Instructional Materials & Supplies               1248 non-null   uint8\n",
      " 13  Function_Insurance                                        1248 non-null   uint8\n",
      " 14  Function_Legal                                            1248 non-null   uint8\n",
      " 15  Function_Library & Media                                  1248 non-null   uint8\n",
      " 16  Function_NO_LABEL                                         1248 non-null   uint8\n",
      " 17  Function_Other Compensation                               1248 non-null   uint8\n",
      " 18  Function_Other Non-Compensation                           1248 non-null   uint8\n",
      " 19  Function_Parent & Community Relations                     1248 non-null   uint8\n",
      " 20  Function_Physical Health & Services                       1248 non-null   uint8\n",
      " 21  Function_Professional Development                         1248 non-null   uint8\n",
      " 22  Function_Recruitment                                      1248 non-null   uint8\n",
      " 23  Function_Research & Accountability                        1248 non-null   uint8\n",
      " 24  Function_School Administration                            1248 non-null   uint8\n",
      " 25  Function_School Supervision                               1248 non-null   uint8\n",
      " 26  Function_Security & Safety                                1248 non-null   uint8\n",
      " 27  Function_Social & Emotional                               1248 non-null   uint8\n",
      " 28  Function_Special Population Program Management & Support  1248 non-null   uint8\n",
      " 29  Function_Student Assignment                               1248 non-null   uint8\n",
      " 30  Function_Student Transportation                           1248 non-null   uint8\n",
      " 31  Function_Substitute Compensation                          1248 non-null   uint8\n",
      " 32  Function_Teacher Compensation                             1248 non-null   uint8\n",
      " 33  Function_Untracked Budget Set-Aside                       1248 non-null   uint8\n",
      " 34  Function_Utilities                                        1248 non-null   uint8\n",
      " 35  Use_Business Services                                     1248 non-null   uint8\n",
      " 36  Use_ISPD                                                  1248 non-null   uint8\n",
      " 37  Use_Instruction                                           1248 non-null   uint8\n",
      " 38  Use_Leadership                                            1248 non-null   uint8\n",
      " 39  Use_NO_LABEL                                              1248 non-null   uint8\n",
      " 40  Use_O&M                                                   1248 non-null   uint8\n",
      " 41  Use_Pupil Services & Enrichment                           1248 non-null   uint8\n",
      " 42  Use_Untracked Budget Set-Aside                            1248 non-null   uint8\n",
      " 43  Sharing_Leadership & Management                           1248 non-null   uint8\n",
      " 44  Sharing_NO_LABEL                                          1248 non-null   uint8\n",
      " 45  Sharing_School Reported                                   1248 non-null   uint8\n",
      " 46  Sharing_School on Central Budgets                         1248 non-null   uint8\n",
      " 47  Sharing_Shared Services                                   1248 non-null   uint8\n",
      " 48  Reporting_NO_LABEL                                        1248 non-null   uint8\n",
      " 49  Reporting_Non-School                                      1248 non-null   uint8\n",
      " 50  Reporting_School                                          1248 non-null   uint8\n",
      " 51  Student_Type_Alternative                                  1248 non-null   uint8\n",
      " 52  Student_Type_At Risk                                      1248 non-null   uint8\n",
      " 53  Student_Type_ELL                                          1248 non-null   uint8\n",
      " 54  Student_Type_Gifted                                       1248 non-null   uint8\n",
      " 55  Student_Type_NO_LABEL                                     1248 non-null   uint8\n",
      " 56  Student_Type_Poverty                                      1248 non-null   uint8\n",
      " 57  Student_Type_PreK                                         1248 non-null   uint8\n",
      " 58  Student_Type_Special Education                            1248 non-null   uint8\n",
      " 59  Student_Type_Unspecified                                  1248 non-null   uint8\n",
      " 60  Position_Type_Area Officers                               1248 non-null   uint8\n",
      " 61  Position_Type_Club Advisor/Coach                          1248 non-null   uint8\n",
      " 62  Position_Type_Coordinator/Manager                         1248 non-null   uint8\n",
      " 63  Position_Type_Custodian                                   1248 non-null   uint8\n",
      " 64  Position_Type_Guidance Counselor                          1248 non-null   uint8\n",
      " 65  Position_Type_Instructional Coach                         1248 non-null   uint8\n",
      " 66  Position_Type_Librarian                                   1248 non-null   uint8\n",
      " 67  Position_Type_NO_LABEL                                    1248 non-null   uint8\n",
      " 68  Position_Type_Non-Position                                1248 non-null   uint8\n",
      " 69  Position_Type_Nurse                                       1248 non-null   uint8\n",
      " 70  Position_Type_Nurse Aide                                  1248 non-null   uint8\n",
      " 71  Position_Type_Other                                       1248 non-null   uint8\n",
      " 72  Position_Type_Physical Therapist                          1248 non-null   uint8\n",
      " 73  Position_Type_Principal                                   1248 non-null   uint8\n",
      " 74  Position_Type_Psychologist                                1248 non-null   uint8\n",
      " 75  Position_Type_School Monitor/Security                     1248 non-null   uint8\n",
      " 76  Position_Type_Sec/Clerk/Other Admin                       1248 non-null   uint8\n",
      " 77  Position_Type_Social Worker                               1248 non-null   uint8\n",
      " 78  Position_Type_Speech Therapist                            1248 non-null   uint8\n",
      " 79  Position_Type_Substitute                                  1248 non-null   uint8\n",
      " 80  Position_Type_TA                                          1248 non-null   uint8\n",
      " 81  Position_Type_Teacher                                     1248 non-null   uint8\n",
      " 82  Position_Type_Vice Principal                              1248 non-null   uint8\n",
      " 83  Object_Type_Base Salary/Compensation                      1248 non-null   uint8\n",
      " 84  Object_Type_Benefits                                      1248 non-null   uint8\n",
      " 85  Object_Type_Contracted Services                           1248 non-null   uint8\n",
      " 86  Object_Type_Equipment & Equipment Lease                   1248 non-null   uint8\n",
      " 87  Object_Type_NO_LABEL                                      1248 non-null   uint8\n",
      " 88  Object_Type_Other Compensation/Stipend                    1248 non-null   uint8\n",
      " 89  Object_Type_Other Non-Compensation                        1248 non-null   uint8\n",
      " 90  Object_Type_Rent/Utilities                                1248 non-null   uint8\n",
      " 91  Object_Type_Substitute Compensation                       1248 non-null   uint8\n",
      " 92  Object_Type_Supplies/Materials                            1248 non-null   uint8\n",
      " 93  Object_Type_Travel & Conferences                          1248 non-null   uint8\n",
      " 94  Pre_K_NO_LABEL                                            1248 non-null   uint8\n",
      " 95  Pre_K_Non PreK                                            1248 non-null   uint8\n",
      " 96  Pre_K_PreK                                                1248 non-null   uint8\n",
      " 97  Operating_Status_Non-Operating                            1248 non-null   uint8\n",
      " 98  Operating_Status_Operating, Not PreK-12                   1248 non-null   uint8\n",
      " 99  Operating_Status_PreK-12 Operating                        1248 non-null   uint8\n",
      "dtypes: uint8(100)\n",
      "memory usage: 131.6 KB\n",
      "None\n",
      "\n",
      "y_test info:\n",
      "<class 'pandas.core.frame.DataFrame'>\n",
      "Int64Index: 312 entries, 229958 to 391230\n",
      "Data columns (total 100 columns):\n",
      " #   Column                                                    Non-Null Count  Dtype\n",
      "---  ------                                                    --------------  -----\n",
      " 0   Function_Aides Compensation                               312 non-null    uint8\n",
      " 1   Function_Career & Academic Counseling                     312 non-null    uint8\n",
      " 2   Function_Curriculum Development                           312 non-null    uint8\n",
      " 3   Function_Data Processing & Information Services           312 non-null    uint8\n",
      " 4   Function_Development & Fundraising                        312 non-null    uint8\n",
      " 5   Function_Enrichment                                       312 non-null    uint8\n",
      " 6   Function_Extended Time & Tutoring                         312 non-null    uint8\n",
      " 7   Function_Facilities & Maintenance                         312 non-null    uint8\n",
      " 8   Function_Finance, Budget, Purchasing & Distribution       312 non-null    uint8\n",
      " 9   Function_Food Services                                    312 non-null    uint8\n",
      " 10  Function_Governance                                       312 non-null    uint8\n",
      " 11  Function_Human Resources                                  312 non-null    uint8\n",
      " 12  Function_Instructional Materials & Supplies               312 non-null    uint8\n",
      " 13  Function_Insurance                                        312 non-null    uint8\n",
      " 14  Function_Legal                                            312 non-null    uint8\n",
      " 15  Function_Library & Media                                  312 non-null    uint8\n",
      " 16  Function_NO_LABEL                                         312 non-null    uint8\n",
      " 17  Function_Other Compensation                               312 non-null    uint8\n",
      " 18  Function_Other Non-Compensation                           312 non-null    uint8\n",
      " 19  Function_Parent & Community Relations                     312 non-null    uint8\n",
      " 20  Function_Physical Health & Services                       312 non-null    uint8\n",
      " 21  Function_Professional Development                         312 non-null    uint8\n",
      " 22  Function_Recruitment                                      312 non-null    uint8\n",
      " 23  Function_Research & Accountability                        312 non-null    uint8\n",
      " 24  Function_School Administration                            312 non-null    uint8\n",
      " 25  Function_School Supervision                               312 non-null    uint8\n",
      " 26  Function_Security & Safety                                312 non-null    uint8\n",
      " 27  Function_Social & Emotional                               312 non-null    uint8\n",
      " 28  Function_Special Population Program Management & Support  312 non-null    uint8\n",
      " 29  Function_Student Assignment                               312 non-null    uint8\n",
      " 30  Function_Student Transportation                           312 non-null    uint8\n",
      " 31  Function_Substitute Compensation                          312 non-null    uint8\n",
      " 32  Function_Teacher Compensation                             312 non-null    uint8\n",
      " 33  Function_Untracked Budget Set-Aside                       312 non-null    uint8\n",
      " 34  Function_Utilities                                        312 non-null    uint8\n",
      " 35  Use_Business Services                                     312 non-null    uint8\n",
      " 36  Use_ISPD                                                  312 non-null    uint8\n",
      " 37  Use_Instruction                                           312 non-null    uint8\n",
      " 38  Use_Leadership                                            312 non-null    uint8\n",
      " 39  Use_NO_LABEL                                              312 non-null    uint8\n",
      " 40  Use_O&M                                                   312 non-null    uint8\n",
      " 41  Use_Pupil Services & Enrichment                           312 non-null    uint8\n",
      " 42  Use_Untracked Budget Set-Aside                            312 non-null    uint8\n",
      " 43  Sharing_Leadership & Management                           312 non-null    uint8\n",
      " 44  Sharing_NO_LABEL                                          312 non-null    uint8\n",
      " 45  Sharing_School Reported                                   312 non-null    uint8\n",
      " 46  Sharing_School on Central Budgets                         312 non-null    uint8\n",
      " 47  Sharing_Shared Services                                   312 non-null    uint8\n",
      " 48  Reporting_NO_LABEL                                        312 non-null    uint8\n",
      " 49  Reporting_Non-School                                      312 non-null    uint8\n",
      " 50  Reporting_School                                          312 non-null    uint8\n",
      " 51  Student_Type_Alternative                                  312 non-null    uint8\n",
      " 52  Student_Type_At Risk                                      312 non-null    uint8\n",
      " 53  Student_Type_ELL                                          312 non-null    uint8\n",
      " 54  Student_Type_Gifted                                       312 non-null    uint8\n",
      " 55  Student_Type_NO_LABEL                                     312 non-null    uint8\n",
      " 56  Student_Type_Poverty                                      312 non-null    uint8\n",
      " 57  Student_Type_PreK                                         312 non-null    uint8\n",
      " 58  Student_Type_Special Education                            312 non-null    uint8\n",
      " 59  Student_Type_Unspecified                                  312 non-null    uint8\n",
      " 60  Position_Type_Area Officers                               312 non-null    uint8\n",
      " 61  Position_Type_Club Advisor/Coach                          312 non-null    uint8\n",
      " 62  Position_Type_Coordinator/Manager                         312 non-null    uint8\n",
      " 63  Position_Type_Custodian                                   312 non-null    uint8\n",
      " 64  Position_Type_Guidance Counselor                          312 non-null    uint8\n",
      " 65  Position_Type_Instructional Coach                         312 non-null    uint8\n",
      " 66  Position_Type_Librarian                                   312 non-null    uint8\n",
      " 67  Position_Type_NO_LABEL                                    312 non-null    uint8\n",
      " 68  Position_Type_Non-Position                                312 non-null    uint8\n",
      " 69  Position_Type_Nurse                                       312 non-null    uint8\n",
      " 70  Position_Type_Nurse Aide                                  312 non-null    uint8\n",
      " 71  Position_Type_Other                                       312 non-null    uint8\n",
      " 72  Position_Type_Physical Therapist                          312 non-null    uint8\n",
      " 73  Position_Type_Principal                                   312 non-null    uint8\n",
      " 74  Position_Type_Psychologist                                312 non-null    uint8\n",
      " 75  Position_Type_School Monitor/Security                     312 non-null    uint8\n",
      " 76  Position_Type_Sec/Clerk/Other Admin                       312 non-null    uint8\n",
      " 77  Position_Type_Social Worker                               312 non-null    uint8\n",
      " 78  Position_Type_Speech Therapist                            312 non-null    uint8\n",
      " 79  Position_Type_Substitute                                  312 non-null    uint8\n",
      " 80  Position_Type_TA                                          312 non-null    uint8\n",
      " 81  Position_Type_Teacher                                     312 non-null    uint8\n",
      " 82  Position_Type_Vice Principal                              312 non-null    uint8\n",
      " 83  Object_Type_Base Salary/Compensation                      312 non-null    uint8\n",
      " 84  Object_Type_Benefits                                      312 non-null    uint8\n",
      " 85  Object_Type_Contracted Services                           312 non-null    uint8\n",
      " 86  Object_Type_Equipment & Equipment Lease                   312 non-null    uint8\n",
      " 87  Object_Type_NO_LABEL                                      312 non-null    uint8\n",
      " 88  Object_Type_Other Compensation/Stipend                    312 non-null    uint8\n",
      " 89  Object_Type_Other Non-Compensation                        312 non-null    uint8\n",
      " 90  Object_Type_Rent/Utilities                                312 non-null    uint8\n",
      " 91  Object_Type_Substitute Compensation                       312 non-null    uint8\n",
      " 92  Object_Type_Supplies/Materials                            312 non-null    uint8\n",
      " 93  Object_Type_Travel & Conferences                          312 non-null    uint8\n",
      " 94  Pre_K_NO_LABEL                                            312 non-null    uint8\n",
      " 95  Pre_K_Non PreK                                            312 non-null    uint8\n",
      " 96  Pre_K_PreK                                                312 non-null    uint8\n",
      " 97  Operating_Status_Non-Operating                            312 non-null    uint8\n",
      " 98  Operating_Status_Operating, Not PreK-12                   312 non-null    uint8\n",
      " 99  Operating_Status_PreK-12 Operating                        312 non-null    uint8\n",
      "dtypes: uint8(100)\n",
      "memory usage: 32.9 KB\n",
      "None\n"
     ]
    }
   ],
   "source": [
    "NUMERIC_COLUMNS = ['FTE', 'Total']\n",
    "\n",
    "# Create the new DataFrame: numeric_data_only, replace NaN with -1000\n",
    "numeric_data_only = df[NUMERIC_COLUMNS].fillna(-1000)\n",
    "print(numeric_data_only.head(3))\n",
    "\n",
    "# Get labels and convert to dummy variables: label_dummies\n",
    "label_dummies = pd.get_dummies(df[LABELS])\n",
    "\n",
    "# Create training and test sets\n",
    "X_train, X_test, y_train, y_test = multilabel_train_test_split(numeric_data_only,\n",
    "                                                               label_dummies,\n",
    "                                                               size=0.2, \n",
    "                                                               min_count=1,\n",
    "                                                               seed=123)\n",
    "\n",
    "# Print the info\n",
    "print(\"X_train info:\")\n",
    "print(X_train.info())\n",
    "print(\"\\nX_test info:\")  \n",
    "print(X_test.info())\n",
    "print(\"\\ny_train info:\")  \n",
    "print(y_train.info())\n",
    "print(\"\\ny_test info:\")  \n",
    "print(y_test.info()) "
   ]
  },
  {
   "cell_type": "markdown",
   "metadata": {},
   "source": [
    "The good news is that your workflow didn't cause any errors. The bad news is that your model scored the lowest possible accuracy: 0.0! But hey, you just threw away ALL of the text data in the budget. Later, you won't. Before you add the text data, let's see how the model does when scored by log loss."
   ]
  },
  {
   "cell_type": "code",
   "execution_count": 52,
   "metadata": {},
   "outputs": [
    {
     "name": "stderr",
     "output_type": "stream",
     "text": [
      "C:\\Users\\X\\anaconda\\lib\\site-packages\\sklearn\\multiclass.py:76: UserWarning: Label not 4 is present in all training examples.\n",
      "  warnings.warn(\"Label %s is present in all training examples.\" %\n",
      "C:\\Users\\X\\anaconda\\lib\\site-packages\\sklearn\\multiclass.py:76: UserWarning: Label not 13 is present in all training examples.\n",
      "  warnings.warn(\"Label %s is present in all training examples.\" %\n",
      "C:\\Users\\X\\anaconda\\lib\\site-packages\\sklearn\\multiclass.py:76: UserWarning: Label not 14 is present in all training examples.\n",
      "  warnings.warn(\"Label %s is present in all training examples.\" %\n",
      "C:\\Users\\X\\anaconda\\lib\\site-packages\\sklearn\\multiclass.py:76: UserWarning: Label not 33 is present in all training examples.\n",
      "  warnings.warn(\"Label %s is present in all training examples.\" %\n",
      "C:\\Users\\X\\anaconda\\lib\\site-packages\\sklearn\\multiclass.py:76: UserWarning: Label not 42 is present in all training examples.\n",
      "  warnings.warn(\"Label %s is present in all training examples.\" %\n",
      "C:\\Users\\X\\anaconda\\lib\\site-packages\\sklearn\\multiclass.py:76: UserWarning: Label not 60 is present in all training examples.\n",
      "  warnings.warn(\"Label %s is present in all training examples.\" %\n",
      "C:\\Users\\X\\anaconda\\lib\\site-packages\\sklearn\\multiclass.py:76: UserWarning: Label not 70 is present in all training examples.\n",
      "  warnings.warn(\"Label %s is present in all training examples.\" %\n",
      "C:\\Users\\X\\anaconda\\lib\\site-packages\\sklearn\\multiclass.py:76: UserWarning: Label not 72 is present in all training examples.\n",
      "  warnings.warn(\"Label %s is present in all training examples.\" %\n"
     ]
    },
    {
     "name": "stdout",
     "output_type": "stream",
     "text": [
      "Accuracy: 0.0\n"
     ]
    }
   ],
   "source": [
    "# Import classifiers\n",
    "from sklearn.linear_model import LogisticRegression\n",
    "from sklearn.multiclass import OneVsRestClassifier\n",
    "\n",
    "# Create the DataFrame: numeric_data_only\n",
    "numeric_data_only = df[NUMERIC_COLUMNS].fillna(-1000)\n",
    "\n",
    "# Get labels and convert to dummy variables: label_dummies\n",
    "label_dummies = pd.get_dummies(df[LABELS])\n",
    "\n",
    "# Create training and test sets\n",
    "X_train, X_test, y_train, y_test = multilabel_train_test_split(numeric_data_only,\n",
    "                                                               label_dummies,\n",
    "                                                               size=0.2, \n",
    "                                                               min_count=1,\n",
    "                                                               seed=123)\n",
    "\n",
    "# Instantiate the classifier: clf\n",
    "clf = OneVsRestClassifier(LogisticRegression())\n",
    "\n",
    "# Fit the classifier to the training data\n",
    "clf.fit(X_train, y_train)\n",
    "\n",
    "# Print the accuracy\n",
    "print(\"Accuracy: {}\".format(clf.score(X_test, y_test)))"
   ]
  },
  {
   "cell_type": "code",
   "execution_count": null,
   "metadata": {},
   "outputs": [],
   "source": [
    "# Instantiate the classifier: clf\n",
    "clf = OneVsRestClassifier(LogisticRegression())\n",
    "\n",
    "# Fit it to the training data\n",
    "clf.fit(X_train, y_train)\n",
    "\n",
    "# Load the holdout data: holdout\n",
    "holdout = pd.read_csv('HoldoutData.csv')\n",
    "\n",
    "# Generate predictions: predictions\n",
    "predictions = clf.predict_proba(holdout[NUMERIC_COLUMNS].fillna(-1000))"
   ]
  },
  {
   "cell_type": "markdown",
   "metadata": {},
   "source": [
    "Even though your basic model scored 0.0 accuracy, it nevertheless performs better than the benchmark score of 2.0455. You've now got the basics down and have made a first pass at this complicated supervised learning problem. It's time to step up your game and incorporate the text data."
   ]
  },
  {
   "cell_type": "code",
   "execution_count": null,
   "metadata": {},
   "outputs": [],
   "source": [
    "# Generate predictions: predictions\n",
    "predictions = clf.predict_proba(holdout[NUMERIC_COLUMNS].fillna(-1000))\n",
    "\n",
    "# Format predictions in DataFrame: prediction_df\n",
    "prediction_df = pd.DataFrame(columns=pd.get_dummies(df[LABELS]).columns,\n",
    "                             index=holdout.index,\n",
    "                             data=predictions)\n",
    "\n",
    "\n",
    "# Save prediction_df to csv\n",
    "prediction_df.to_csv('predictions.csv')\n",
    "\n",
    "# Submit the predictions for scoring: score\n",
    "score = score_submission(pred_path='predictions.csv')\n",
    "\n",
    "# Print score\n",
    "print('Your model, trained with numeric data only, yields logloss score: {}'.format(score))"
   ]
  },
  {
   "cell_type": "markdown",
   "metadata": {},
   "source": [
    "## NLP\n",
    "- Tokenization is the process of splitting a long string into segments. \n",
    "- Usually, this means taking a string and splitting it into a list of strings where we have one string for each word.\n",
    "- tokenization is the process of chopping up a character sequence into pieces called tokens. \n",
    "- text data is sensitive to whether or not we tokenize on punctuation\n",
    "    - e.g. tokenize on whitespace and punctuation: Title I - Disadvantaged Children/Targeted Assistance =>6 Children/Targeted becomes two tokens\n",
    "    - e.g. The number of 1-grams + 2-grams + 3-grams is 5 + 4 + 3 = 12 one_grams = ['petro', 'vend', 'fuel', 'and', 'fluids']"
   ]
  },
  {
   "cell_type": "code",
   "execution_count": 53,
   "metadata": {},
   "outputs": [
    {
     "name": "stdout",
     "output_type": "stream",
     "text": [
      "There are 107 tokens in Position_Extra if we split on non-alpha numeric\n",
      "['1st', '3rd', '5th', 'a', 'ab', 'additional', 'adm', 'administrative', 'and', 'any', 'assistant', 'asst', 'athletic', 'attn', 'avg']\n"
     ]
    }
   ],
   "source": [
    "# Import CountVectorizer\n",
    "from sklearn.feature_extraction.text import CountVectorizer\n",
    "\n",
    "# Create the token pattern: TOKENS_ALPHANUMERIC\n",
    "TOKENS_ALPHANUMERIC = '[A-Za-z0-9]+(?=\\\\s+)'\n",
    "\n",
    "# Fill missing values in df.Position_Extra\n",
    "df.Position_Extra.fillna('', inplace=True)\n",
    "\n",
    "# Instantiate the CountVectorizer: vec_alphanumeric\n",
    "vec_alphanumeric = CountVectorizer(token_pattern=TOKENS_ALPHANUMERIC)\n",
    "\n",
    "# Fit to the data\n",
    "vec_alphanumeric.fit(df.Position_Extra)\n",
    "\n",
    "# Print the number of tokens and first 15 tokens\n",
    "msg = \"There are {} tokens in Position_Extra if we split on non-alpha numeric\"\n",
    "print(msg.format(len(vec_alphanumeric.get_feature_names())))\n",
    "print(vec_alphanumeric.get_feature_names()[:15])\n",
    "\n",
    "\n"
   ]
  },
  {
   "cell_type": "code",
   "execution_count": 54,
   "metadata": {},
   "outputs": [],
   "source": [
    "# Define combine_text_columns()\n",
    "def combine_text_columns(data_frame, to_drop=NUMERIC_COLUMNS + LABELS):\n",
    "    \"\"\" converts all text in each row of data_frame to single vector \"\"\"\n",
    "    \n",
    "    # Drop non-text columns that are in the df\n",
    "    to_drop = set(to_drop) & set(data_frame.columns.tolist())\n",
    "    text_data = data_frame.drop(to_drop, axis=1)\n",
    "    \n",
    "    # Replace nans with blanks\n",
    "    text_data.fillna('', inplace=True)\n",
    "    \n",
    "    # Join all text items in a row that have a space in between\n",
    "    return text_data.apply(lambda x: \" \".join(x), axis=1)"
   ]
  },
  {
   "cell_type": "code",
   "execution_count": 55,
   "metadata": {},
   "outputs": [
    {
     "name": "stdout",
     "output_type": "stream",
     "text": [
      "There are 1339 tokens in the dataset\n",
      "There are 1067 alpha-numeric tokens in the dataset\n"
     ]
    }
   ],
   "source": [
    "# Import the CountVectorizer\n",
    "from sklearn.feature_extraction.text import CountVectorizer\n",
    "\n",
    "# Create the basic token pattern\n",
    "TOKENS_BASIC = '\\\\S+(?=\\\\s+)'\n",
    "\n",
    "# Create the alphanumeric token pattern\n",
    "TOKENS_ALPHANUMERIC = '[A-Za-z0-9]+(?=\\\\s+)'\n",
    "\n",
    "# Instantiate basic CountVectorizer: vec_basic\n",
    "vec_basic = CountVectorizer(token_pattern=TOKENS_BASIC)\n",
    "\n",
    "# Instantiate alphanumeric CountVectorizer: vec_alphanumeric\n",
    "vec_alphanumeric = CountVectorizer(token_pattern=TOKENS_ALPHANUMERIC)\n",
    "\n",
    "# Create the text vector\n",
    "text_vector = combine_text_columns(data_frame=df)\n",
    "\n",
    "# Fit and transform vec_basic\n",
    "vec_basic.fit_transform(text_vector)\n",
    "\n",
    "# Print number of tokens of vec_basic\n",
    "print(\"There are {} tokens in the dataset\".format(len(vec_basic.get_feature_names())))\n",
    "\n",
    "# Fit and transform vec_alphanumeric\n",
    "vec_alphanumeric.fit_transform(text_vector)\n",
    "\n",
    "# Print number of tokens of vec_alphanumeric\n",
    "print(\"There are {} alpha-numeric tokens in the dataset\".format(len(vec_alphanumeric.get_feature_names())))"
   ]
  },
  {
   "cell_type": "code",
   "execution_count": 56,
   "metadata": {},
   "outputs": [
    {
     "ename": "NameError",
     "evalue": "name 'sample_df' is not defined",
     "output_type": "error",
     "traceback": [
      "\u001b[1;31m---------------------------------------------------------------------------\u001b[0m",
      "\u001b[1;31mNameError\u001b[0m                                 Traceback (most recent call last)",
      "\u001b[1;32m<ipython-input-56-02c93e95a656>\u001b[0m in \u001b[0;36m<module>\u001b[1;34m\u001b[0m\n\u001b[0;32m      8\u001b[0m \u001b[1;33m\u001b[0m\u001b[0m\n\u001b[0;32m      9\u001b[0m \u001b[1;31m# Split and select numeric data only, no nans\u001b[0m\u001b[1;33m\u001b[0m\u001b[1;33m\u001b[0m\u001b[1;33m\u001b[0m\u001b[0m\n\u001b[1;32m---> 10\u001b[1;33m X_train, X_test, y_train, y_test = train_test_split(sample_df[['numeric']],\n\u001b[0m\u001b[0;32m     11\u001b[0m                                                     \u001b[0mpd\u001b[0m\u001b[1;33m.\u001b[0m\u001b[0mget_dummies\u001b[0m\u001b[1;33m(\u001b[0m\u001b[0msample_df\u001b[0m\u001b[1;33m[\u001b[0m\u001b[1;34m'label'\u001b[0m\u001b[1;33m]\u001b[0m\u001b[1;33m)\u001b[0m\u001b[1;33m,\u001b[0m\u001b[1;33m\u001b[0m\u001b[1;33m\u001b[0m\u001b[0m\n\u001b[0;32m     12\u001b[0m                                                     random_state=22)\n",
      "\u001b[1;31mNameError\u001b[0m: name 'sample_df' is not defined"
     ]
    }
   ],
   "source": [
    "# Import Pipeline\n",
    "from sklearn.pipeline import Pipeline\n",
    "\n",
    "# Import other necessary modules\n",
    "from sklearn.model_selection import train_test_split\n",
    "from sklearn.linear_model import LogisticRegression\n",
    "from sklearn.multiclass import OneVsRestClassifier\n",
    "\n",
    "# Split and select numeric data only, no nans \n",
    "X_train, X_test, y_train, y_test = train_test_split(sample_df[['numeric']],\n",
    "                                                    pd.get_dummies(sample_df['label']), \n",
    "                                                    random_state=22)\n",
    "\n",
    "# Instantiate Pipeline object: pl\n",
    "pl = Pipeline([\n",
    "        ('clf', OneVsRestClassifier(LogisticRegression()))\n",
    "    ])\n",
    "\n",
    "# Fit the pipeline to the training data\n",
    "pl.fit(X_train, y_train)\n",
    "\n",
    "# Compute and print accuracy\n",
    "accuracy = pl.score(X_test, y_test)\n",
    "print(\"\\nAccuracy on sample data - numeric, no nans: \", accuracy)"
   ]
  },
  {
   "cell_type": "code",
   "execution_count": 57,
   "metadata": {},
   "outputs": [
    {
     "ename": "ImportError",
     "evalue": "cannot import name 'Imputer' from 'sklearn.preprocessing' (C:\\Users\\X\\anaconda\\lib\\site-packages\\sklearn\\preprocessing\\__init__.py)",
     "output_type": "error",
     "traceback": [
      "\u001b[1;31m---------------------------------------------------------------------------\u001b[0m",
      "\u001b[1;31mImportError\u001b[0m                               Traceback (most recent call last)",
      "\u001b[1;32m<ipython-input-57-3183c91c550c>\u001b[0m in \u001b[0;36m<module>\u001b[1;34m\u001b[0m\n\u001b[0;32m      1\u001b[0m \u001b[1;31m# Import the Imputer object\u001b[0m\u001b[1;33m\u001b[0m\u001b[1;33m\u001b[0m\u001b[1;33m\u001b[0m\u001b[0m\n\u001b[1;32m----> 2\u001b[1;33m \u001b[1;32mfrom\u001b[0m \u001b[0msklearn\u001b[0m\u001b[1;33m.\u001b[0m\u001b[0mpreprocessing\u001b[0m \u001b[1;32mimport\u001b[0m \u001b[0mImputer\u001b[0m\u001b[1;33m\u001b[0m\u001b[1;33m\u001b[0m\u001b[0m\n\u001b[0m\u001b[0;32m      3\u001b[0m \u001b[1;33m\u001b[0m\u001b[0m\n\u001b[0;32m      4\u001b[0m \u001b[1;31m# Create training and test sets using only numeric data\u001b[0m\u001b[1;33m\u001b[0m\u001b[1;33m\u001b[0m\u001b[1;33m\u001b[0m\u001b[0m\n\u001b[0;32m      5\u001b[0m X_train, X_test, y_train, y_test = train_test_split(sample_df[['numeric', 'with_missing']],\n",
      "\u001b[1;31mImportError\u001b[0m: cannot import name 'Imputer' from 'sklearn.preprocessing' (C:\\Users\\X\\anaconda\\lib\\site-packages\\sklearn\\preprocessing\\__init__.py)"
     ]
    }
   ],
   "source": [
    "# Import the Imputer object\n",
    "from sklearn.preprocessing import Imputer\n",
    "\n",
    "# Create training and test sets using only numeric data\n",
    "X_train, X_test, y_train, y_test = train_test_split(sample_df[['numeric', 'with_missing']],\n",
    "                                                    pd.get_dummies(sample_df['label']), \n",
    "                                                    random_state=456)\n",
    "\n",
    "# Insantiate Pipeline object: pl\n",
    "pl = Pipeline([\n",
    "        ('imp', Imputer()),\n",
    "        ('clf', OneVsRestClassifier(LogisticRegression()))\n",
    "    ])\n",
    "\n",
    "# Fit the pipeline to the training data\n",
    "pl.fit(X_train, y_train)\n",
    "\n",
    "# Compute and print accuracy\n",
    "accuracy = pl.score(X_test, y_test)\n",
    "print(\"\\nAccuracy on sample data - all numeric, incl nans: \", accuracy)"
   ]
  },
  {
   "cell_type": "code",
   "execution_count": null,
   "metadata": {},
   "outputs": [],
   "source": []
  },
  {
   "cell_type": "code",
   "execution_count": null,
   "metadata": {},
   "outputs": [],
   "source": []
  },
  {
   "cell_type": "code",
   "execution_count": null,
   "metadata": {},
   "outputs": [],
   "source": []
  }
 ],
 "metadata": {
  "kernelspec": {
   "display_name": "Python 3",
   "language": "python",
   "name": "python3"
  },
  "language_info": {
   "codemirror_mode": {
    "name": "ipython",
    "version": 3
   },
   "file_extension": ".py",
   "mimetype": "text/x-python",
   "name": "python",
   "nbconvert_exporter": "python",
   "pygments_lexer": "ipython3",
   "version": "3.8.5"
  }
 },
 "nbformat": 4,
 "nbformat_minor": 4
}
